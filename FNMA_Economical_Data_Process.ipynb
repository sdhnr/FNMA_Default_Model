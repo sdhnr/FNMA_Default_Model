{
 "cells": [
  {
   "cell_type": "code",
   "execution_count": 2,
   "id": "f2a89efe-8889-41f6-8680-9cf83950c4e8",
   "metadata": {
    "scrolled": true
   },
   "outputs": [],
   "source": [
    "# code to programatically extract county level unemployment numbers from St. Louis FED\n",
    "#https://fred.stlouisfed.org/docs/api/fred/\n",
    "#install the python library to extract data\n",
    "\n",
    "#!pip install fredapi"
   ]
  },
  {
   "cell_type": "code",
   "execution_count": 3,
   "id": "b0a2ba9a",
   "metadata": {},
   "outputs": [],
   "source": [
    "import boto3\n",
    "import pickle\n",
    "import pandas as pd\n",
    "\n",
    "# Replace with your S3 bucket name and key\n",
    "s3_bucket = 'dsvecondata'\n",
    "s3_key = 'Unemployment/df_unemp_raw.pkl'\n",
    "\n",
    "# Initialize the S3 client\n",
    "s3_client = boto3.client('s3')\n",
    "\n",
    "# Specify a local file path to download the data\n",
    "local_file_path = 'df_unemp_raw.pkl'\n",
    "\n",
    "# Download the pickled data from S3 to your local file\n",
    "s3_client.download_file(s3_bucket, s3_key, local_file_path)\n",
    "\n",
    "# Load the pickled data into a Python object\n",
    "with open(local_file_path, 'rb') as file:\n",
    "    data = pickle.load(file)\n",
    "\n",
    "# Now, 'data' contains the loaded data from the S3 location\n"
   ]
  },
  {
   "cell_type": "code",
   "execution_count": 5,
   "id": "ea285bc4",
   "metadata": {},
   "outputs": [
    {
     "data": {
      "text/html": [
       "<div>\n",
       "<style scoped>\n",
       "    .dataframe tbody tr th:only-of-type {\n",
       "        vertical-align: middle;\n",
       "    }\n",
       "\n",
       "    .dataframe tbody tr th {\n",
       "        vertical-align: top;\n",
       "    }\n",
       "\n",
       "    .dataframe thead th {\n",
       "        text-align: right;\n",
       "    }\n",
       "</style>\n",
       "<table border=\"1\" class=\"dataframe\">\n",
       "  <thead>\n",
       "    <tr style=\"text-align: right;\">\n",
       "      <th></th>\n",
       "      <th>realtime_start</th>\n",
       "      <th>realtime_end</th>\n",
       "      <th>date</th>\n",
       "      <th>value</th>\n",
       "      <th>id</th>\n",
       "    </tr>\n",
       "  </thead>\n",
       "  <tbody>\n",
       "    <tr>\n",
       "      <th>0</th>\n",
       "      <td>2023-01-27</td>\n",
       "      <td>2023-01-27</td>\n",
       "      <td>1990-01-01</td>\n",
       "      <td>0.700</td>\n",
       "      <td>AKALEU0URN</td>\n",
       "    </tr>\n",
       "    <tr>\n",
       "      <th>1</th>\n",
       "      <td>2023-01-27</td>\n",
       "      <td>2023-01-27</td>\n",
       "      <td>1990-02-01</td>\n",
       "      <td>0.600</td>\n",
       "      <td>AKALEU0URN</td>\n",
       "    </tr>\n",
       "    <tr>\n",
       "      <th>2</th>\n",
       "      <td>2023-01-27</td>\n",
       "      <td>2023-01-27</td>\n",
       "      <td>1990-03-01</td>\n",
       "      <td>0.7</td>\n",
       "      <td>AKALEU0URN</td>\n",
       "    </tr>\n",
       "    <tr>\n",
       "      <th>3</th>\n",
       "      <td>2023-01-27</td>\n",
       "      <td>2023-01-27</td>\n",
       "      <td>1990-04-01</td>\n",
       "      <td>0.700</td>\n",
       "      <td>AKALEU0URN</td>\n",
       "    </tr>\n",
       "    <tr>\n",
       "      <th>4</th>\n",
       "      <td>2023-01-27</td>\n",
       "      <td>2023-01-27</td>\n",
       "      <td>1990-05-01</td>\n",
       "      <td>0.7</td>\n",
       "      <td>AKALEU0URN</td>\n",
       "    </tr>\n",
       "  </tbody>\n",
       "</table>\n",
       "</div>"
      ],
      "text/plain": [
       "  realtime_start realtime_end        date  value          id\n",
       "0     2023-01-27   2023-01-27  1990-01-01  0.700  AKALEU0URN\n",
       "1     2023-01-27   2023-01-27  1990-02-01  0.600  AKALEU0URN\n",
       "2     2023-01-27   2023-01-27  1990-03-01    0.7  AKALEU0URN\n",
       "3     2023-01-27   2023-01-27  1990-04-01  0.700  AKALEU0URN\n",
       "4     2023-01-27   2023-01-27  1990-05-01    0.7  AKALEU0URN"
      ]
     },
     "execution_count": 5,
     "metadata": {},
     "output_type": "execute_result"
    }
   ],
   "source": [
    "data.head()"
   ]
  },
  {
   "cell_type": "code",
   "execution_count": null,
   "id": "f4368790",
   "metadata": {},
   "outputs": [],
   "source": []
  },
  {
   "cell_type": "code",
   "execution_count": null,
   "id": "53f46135",
   "metadata": {},
   "outputs": [],
   "source": []
  },
  {
   "cell_type": "code",
   "execution_count": 6,
   "id": "54f20aac-0f59-45e2-8794-7b260b0ceb19",
   "metadata": {},
   "outputs": [],
   "source": [
    "# In order to run this code you need to get your own API key from\n",
    "#https://fredaccount.stlouisfed.org/apikeys\n",
    "\n",
    "#After creating an account, navigate to \"My Account\" section, then click API Keys. Request an API Key there."
   ]
  },
  {
   "cell_type": "code",
   "execution_count": 7,
   "id": "f982b4b3",
   "metadata": {},
   "outputs": [],
   "source": [
    "from fredapi import Fred\n",
    "fred = Fred(api_key='c1bd04f342c5757f2149c801f0505f3f') #please enter your API key"
   ]
  },
  {
   "cell_type": "code",
   "execution_count": 8,
   "id": "76780da4-5e47-41f9-aa6b-e41621ddc880",
   "metadata": {},
   "outputs": [],
   "source": [
    "#### Try to get using only one library "
   ]
  },
  {
   "cell_type": "code",
   "execution_count": 11,
   "id": "15a4b788-1b55-4077-8dd3-0e829511826f",
   "metadata": {
    "scrolled": true
   },
   "outputs": [
    {
     "name": "stdout",
     "output_type": "stream",
     "text": [
      "Collecting full-fred\n",
      "  Downloading full_fred-0.0.9a3-py3-none-any.whl (47 kB)\n",
      "     ---------------------------------------- 47.6/47.6 kB 1.2 MB/s eta 0:00:00\n",
      "Requirement already satisfied: pandas in c:\\users\\lenovo\\appdata\\local\\programs\\python\\python311\\lib\\site-packages (from full-fred) (1.5.3)\n",
      "Requirement already satisfied: requests in c:\\users\\lenovo\\appdata\\local\\programs\\python\\python311\\lib\\site-packages (from full-fred) (2.28.2)\n",
      "Requirement already satisfied: python-dateutil>=2.8.1 in c:\\users\\lenovo\\appdata\\local\\programs\\python\\python311\\lib\\site-packages (from pandas->full-fred) (2.8.2)\n",
      "Requirement already satisfied: pytz>=2020.1 in c:\\users\\lenovo\\appdata\\local\\programs\\python\\python311\\lib\\site-packages (from pandas->full-fred) (2022.7.1)\n",
      "Requirement already satisfied: numpy>=1.21.0 in c:\\users\\lenovo\\appdata\\local\\programs\\python\\python311\\lib\\site-packages (from pandas->full-fred) (1.23.5)\n",
      "Requirement already satisfied: charset-normalizer<4,>=2 in c:\\users\\lenovo\\appdata\\local\\programs\\python\\python311\\lib\\site-packages (from requests->full-fred) (3.1.0)\n",
      "Requirement already satisfied: idna<4,>=2.5 in c:\\users\\lenovo\\appdata\\local\\programs\\python\\python311\\lib\\site-packages (from requests->full-fred) (3.4)\n",
      "Requirement already satisfied: urllib3<1.27,>=1.21.1 in c:\\users\\lenovo\\appdata\\local\\programs\\python\\python311\\lib\\site-packages (from requests->full-fred) (1.26.15)\n",
      "Requirement already satisfied: certifi>=2017.4.17 in c:\\users\\lenovo\\appdata\\local\\programs\\python\\python311\\lib\\site-packages (from requests->full-fred) (2022.12.7)\n",
      "Requirement already satisfied: six>=1.5 in c:\\users\\lenovo\\appdata\\local\\programs\\python\\python311\\lib\\site-packages (from python-dateutil>=2.8.1->pandas->full-fred) (1.16.0)\n",
      "Installing collected packages: full-fred\n",
      "Successfully installed full-fred-0.0.9a3\n"
     ]
    },
    {
     "name": "stderr",
     "output_type": "stream",
     "text": [
      "\n",
      "[notice] A new release of pip available: 22.3.1 -> 23.2.1\n",
      "[notice] To update, run: python.exe -m pip install --upgrade pip\n"
     ]
    }
   ],
   "source": [
    "!pip install full-fred\n"
   ]
  },
  {
   "cell_type": "code",
   "execution_count": 12,
   "id": "28719d2f-1ccf-4766-a020-d15a40342ee8",
   "metadata": {},
   "outputs": [
    {
     "data": {
      "text/plain": [
       "'example.txt'"
      ]
     },
     "execution_count": 12,
     "metadata": {},
     "output_type": "execute_result"
    }
   ],
   "source": [
    "from full_fred.fred import Fred\n",
    "\n",
    "fred = Fred('example.txt')\n",
    "\n",
    "fred.get_api_key_file()"
   ]
  },
  {
   "cell_type": "code",
   "execution_count": 13,
   "id": "e614c071-5c57-4ad8-b821-4cd33b497528",
   "metadata": {},
   "outputs": [
    {
     "data": {
      "text/plain": [
       "True"
      ]
     },
     "execution_count": 13,
     "metadata": {},
     "output_type": "execute_result"
    }
   ],
   "source": [
    "fred.set_api_key_file('example.txt')"
   ]
  },
  {
   "cell_type": "code",
   "execution_count": 14,
   "id": "60813063-0b45-426f-8794-3609d83f547e",
   "metadata": {},
   "outputs": [],
   "source": [
    "#Instructions on how to setup this request is written below\n",
    "#https://fred.stlouisfed.org/docs/api/fred/series_search.html\n",
    "#\n",
    "url_base = \"https://api.stlouisfed.org/fred/series/search?search_text=*URN&search_type=series_id&api_key=d9a556388442a4822a82c8612e70577c&tag_name=unemployment;bls;county;usa;nsa&file_type=json\"\n",
    "\n",
    "#url_base='https://api.stlouisfed.org/fred/series/search?search_text=*URN&search_type=series_id&api_key=d9a556388442a4822a82c8612e70577c&tag_name=unemployment;bls;county;usa;nsa&file_type=json'"
   ]
  },
  {
   "cell_type": "code",
   "execution_count": 15,
   "id": "e37dda5c-a58f-4bf8-8025-ef4f5acd9ffb",
   "metadata": {},
   "outputs": [],
   "source": [
    "import requests\n",
    "import pandas as pd\n",
    "import numpy as np\n",
    "import time"
   ]
  },
  {
   "cell_type": "code",
   "execution_count": 16,
   "id": "bbd5391f-36c1-4ae2-aefc-fa622618c992",
   "metadata": {},
   "outputs": [
    {
     "name": "stdout",
     "output_type": "stream",
     "text": [
      "https://api.stlouisfed.org/fred/series/search?search_text=*URN&search_type=series_id&api_key=d9a556388442a4822a82c8612e70577c&tag_name=unemployment;bls;county;usa;nsa&file_type=json&offset=0\n",
      "(1000, 16)\n",
      "(1000, 16)\n",
      "https://api.stlouisfed.org/fred/series/search?search_text=*URN&search_type=series_id&api_key=d9a556388442a4822a82c8612e70577c&tag_name=unemployment;bls;county;usa;nsa&file_type=json&offset=1000\n",
      "(1000, 16)\n",
      "(2000, 16)\n",
      "https://api.stlouisfed.org/fred/series/search?search_text=*URN&search_type=series_id&api_key=d9a556388442a4822a82c8612e70577c&tag_name=unemployment;bls;county;usa;nsa&file_type=json&offset=2000\n",
      "(1000, 16)\n",
      "(3000, 16)\n",
      "https://api.stlouisfed.org/fred/series/search?search_text=*URN&search_type=series_id&api_key=d9a556388442a4822a82c8612e70577c&tag_name=unemployment;bls;county;usa;nsa&file_type=json&offset=3000\n",
      "(601, 16)\n",
      "(3601, 16)\n",
      "https://api.stlouisfed.org/fred/series/search?search_text=*URN&search_type=series_id&api_key=d9a556388442a4822a82c8612e70577c&tag_name=unemployment;bls;county;usa;nsa&file_type=json&offset=4000\n",
      "(0, 0)\n",
      "(3601, 16)\n"
     ]
    }
   ],
   "source": [
    "## code to get list of all the series id that contains county level unemployment. note that this only the master list of series ids, we still need to pull the actual unemployment data seperately\n",
    "\n",
    "df_all=pd.DataFrame()\n",
    "for n in range(0,5000,1000):\n",
    "    #url_set='&offset='+str(n)+'&tag_name=unemployment;bls;county;usa;nsa&file_type=json'\n",
    "    url_set=\"&offset=\"+str(n)\n",
    "    url=\"\".join([url_base, url_set])\n",
    "    print(\"\".join([url_base, url_set]))\n",
    "    r = requests.get(url)\n",
    "    df_and_metadata=r.json()\n",
    "    df = pd.DataFrame(df_and_metadata['seriess'])\n",
    "    df_all=pd.concat([df_all, df])\n",
    "    print(df.shape)\n",
    "    print(df_all.shape)"
   ]
  },
  {
   "cell_type": "code",
   "execution_count": 17,
   "id": "8bd6fc21",
   "metadata": {},
   "outputs": [
    {
     "data": {
      "text/html": [
       "<div>\n",
       "<style scoped>\n",
       "    .dataframe tbody tr th:only-of-type {\n",
       "        vertical-align: middle;\n",
       "    }\n",
       "\n",
       "    .dataframe tbody tr th {\n",
       "        vertical-align: top;\n",
       "    }\n",
       "\n",
       "    .dataframe thead th {\n",
       "        text-align: right;\n",
       "    }\n",
       "</style>\n",
       "<table border=\"1\" class=\"dataframe\">\n",
       "  <thead>\n",
       "    <tr style=\"text-align: right;\">\n",
       "      <th></th>\n",
       "      <th>id</th>\n",
       "      <th>realtime_start</th>\n",
       "      <th>realtime_end</th>\n",
       "      <th>title</th>\n",
       "      <th>observation_start</th>\n",
       "      <th>observation_end</th>\n",
       "      <th>frequency</th>\n",
       "      <th>frequency_short</th>\n",
       "      <th>units</th>\n",
       "      <th>units_short</th>\n",
       "      <th>seasonal_adjustment</th>\n",
       "      <th>seasonal_adjustment_short</th>\n",
       "      <th>last_updated</th>\n",
       "      <th>popularity</th>\n",
       "      <th>group_popularity</th>\n",
       "      <th>notes</th>\n",
       "    </tr>\n",
       "  </thead>\n",
       "  <tbody>\n",
       "    <tr>\n",
       "      <th>0</th>\n",
       "      <td>ABIL148URN</td>\n",
       "      <td>2023-09-12</td>\n",
       "      <td>2023-09-12</td>\n",
       "      <td>Unemployment Rate in Abilene, TX (MSA)</td>\n",
       "      <td>1990-01-01</td>\n",
       "      <td>2023-07-01</td>\n",
       "      <td>Monthly</td>\n",
       "      <td>M</td>\n",
       "      <td>Percent</td>\n",
       "      <td>%</td>\n",
       "      <td>Not Seasonally Adjusted</td>\n",
       "      <td>NSA</td>\n",
       "      <td>2023-08-30 10:16:47-05</td>\n",
       "      <td>2</td>\n",
       "      <td>2</td>\n",
       "      <td>NaN</td>\n",
       "    </tr>\n",
       "    <tr>\n",
       "      <th>1</th>\n",
       "      <td>AKALEU0URN</td>\n",
       "      <td>2023-09-12</td>\n",
       "      <td>2023-09-12</td>\n",
       "      <td>Unemployment Rate in Aleutians West Census Are...</td>\n",
       "      <td>1990-01-01</td>\n",
       "      <td>2023-07-01</td>\n",
       "      <td>Monthly</td>\n",
       "      <td>M</td>\n",
       "      <td>Percent</td>\n",
       "      <td>%</td>\n",
       "      <td>Not Seasonally Adjusted</td>\n",
       "      <td>NSA</td>\n",
       "      <td>2023-08-30 10:13:54-05</td>\n",
       "      <td>1</td>\n",
       "      <td>1</td>\n",
       "      <td>These data come from the Current Population Su...</td>\n",
       "    </tr>\n",
       "    <tr>\n",
       "      <th>2</th>\n",
       "      <td>AKALEU3URN</td>\n",
       "      <td>2023-09-12</td>\n",
       "      <td>2023-09-12</td>\n",
       "      <td>Unemployment Rate in Aleutians East Borough, AK</td>\n",
       "      <td>1990-01-01</td>\n",
       "      <td>2023-07-01</td>\n",
       "      <td>Monthly</td>\n",
       "      <td>M</td>\n",
       "      <td>Percent</td>\n",
       "      <td>%</td>\n",
       "      <td>Not Seasonally Adjusted</td>\n",
       "      <td>NSA</td>\n",
       "      <td>2023-08-30 10:15:17-05</td>\n",
       "      <td>1</td>\n",
       "      <td>1</td>\n",
       "      <td>These data come from the Current Population Su...</td>\n",
       "    </tr>\n",
       "    <tr>\n",
       "      <th>3</th>\n",
       "      <td>AKANCH0URN</td>\n",
       "      <td>2023-09-12</td>\n",
       "      <td>2023-09-12</td>\n",
       "      <td>Unemployment Rate in Anchorage Borough/municip...</td>\n",
       "      <td>1990-01-01</td>\n",
       "      <td>2023-07-01</td>\n",
       "      <td>Monthly</td>\n",
       "      <td>M</td>\n",
       "      <td>Percent</td>\n",
       "      <td>%</td>\n",
       "      <td>Not Seasonally Adjusted</td>\n",
       "      <td>NSA</td>\n",
       "      <td>2023-08-30 10:10:02-05</td>\n",
       "      <td>1</td>\n",
       "      <td>1</td>\n",
       "      <td>These data come from the Current Population Su...</td>\n",
       "    </tr>\n",
       "    <tr>\n",
       "      <th>4</th>\n",
       "      <td>AKBETH0URN</td>\n",
       "      <td>2023-09-12</td>\n",
       "      <td>2023-09-12</td>\n",
       "      <td>Unemployment Rate in Bethel Census Area, AK</td>\n",
       "      <td>1990-01-01</td>\n",
       "      <td>2023-07-01</td>\n",
       "      <td>Monthly</td>\n",
       "      <td>M</td>\n",
       "      <td>Percent</td>\n",
       "      <td>%</td>\n",
       "      <td>Not Seasonally Adjusted</td>\n",
       "      <td>NSA</td>\n",
       "      <td>2023-08-30 10:13:54-05</td>\n",
       "      <td>1</td>\n",
       "      <td>1</td>\n",
       "      <td>These data come from the Current Population Su...</td>\n",
       "    </tr>\n",
       "    <tr>\n",
       "      <th>...</th>\n",
       "      <td>...</td>\n",
       "      <td>...</td>\n",
       "      <td>...</td>\n",
       "      <td>...</td>\n",
       "      <td>...</td>\n",
       "      <td>...</td>\n",
       "      <td>...</td>\n",
       "      <td>...</td>\n",
       "      <td>...</td>\n",
       "      <td>...</td>\n",
       "      <td>...</td>\n",
       "      <td>...</td>\n",
       "      <td>...</td>\n",
       "      <td>...</td>\n",
       "      <td>...</td>\n",
       "      <td>...</td>\n",
       "    </tr>\n",
       "    <tr>\n",
       "      <th>596</th>\n",
       "      <td>YAKI453URN</td>\n",
       "      <td>2023-09-12</td>\n",
       "      <td>2023-09-12</td>\n",
       "      <td>Unemployment Rate in Yakima, WA (MSA)</td>\n",
       "      <td>1990-01-01</td>\n",
       "      <td>2023-07-01</td>\n",
       "      <td>Monthly</td>\n",
       "      <td>M</td>\n",
       "      <td>Percent</td>\n",
       "      <td>%</td>\n",
       "      <td>Not Seasonally Adjusted</td>\n",
       "      <td>NSA</td>\n",
       "      <td>2023-08-30 10:15:17-05</td>\n",
       "      <td>1</td>\n",
       "      <td>1</td>\n",
       "      <td>NaN</td>\n",
       "    </tr>\n",
       "    <tr>\n",
       "      <th>597</th>\n",
       "      <td>YORK642URN</td>\n",
       "      <td>2023-09-12</td>\n",
       "      <td>2023-09-12</td>\n",
       "      <td>Unemployment Rate in York-Hanover, PA (MSA)</td>\n",
       "      <td>1990-01-01</td>\n",
       "      <td>2023-07-01</td>\n",
       "      <td>Monthly</td>\n",
       "      <td>M</td>\n",
       "      <td>Percent</td>\n",
       "      <td>%</td>\n",
       "      <td>Not Seasonally Adjusted</td>\n",
       "      <td>NSA</td>\n",
       "      <td>2023-08-30 10:07:43-05</td>\n",
       "      <td>1</td>\n",
       "      <td>1</td>\n",
       "      <td>NaN</td>\n",
       "    </tr>\n",
       "    <tr>\n",
       "      <th>598</th>\n",
       "      <td>YOUN639URN</td>\n",
       "      <td>2023-09-12</td>\n",
       "      <td>2023-09-12</td>\n",
       "      <td>Unemployment Rate in Youngstown-Warren-Boardma...</td>\n",
       "      <td>1990-01-01</td>\n",
       "      <td>2023-07-01</td>\n",
       "      <td>Monthly</td>\n",
       "      <td>M</td>\n",
       "      <td>Percent</td>\n",
       "      <td>%</td>\n",
       "      <td>Not Seasonally Adjusted</td>\n",
       "      <td>NSA</td>\n",
       "      <td>2023-08-30 10:24:08-05</td>\n",
       "      <td>4</td>\n",
       "      <td>4</td>\n",
       "      <td>NaN</td>\n",
       "    </tr>\n",
       "    <tr>\n",
       "      <th>599</th>\n",
       "      <td>YUBA706URN</td>\n",
       "      <td>2023-09-12</td>\n",
       "      <td>2023-09-12</td>\n",
       "      <td>Unemployment Rate in Yuba City, CA (MSA)</td>\n",
       "      <td>1990-01-01</td>\n",
       "      <td>2023-07-01</td>\n",
       "      <td>Monthly</td>\n",
       "      <td>M</td>\n",
       "      <td>Percent</td>\n",
       "      <td>%</td>\n",
       "      <td>Not Seasonally Adjusted</td>\n",
       "      <td>NSA</td>\n",
       "      <td>2023-08-30 10:30:34-05</td>\n",
       "      <td>0</td>\n",
       "      <td>1</td>\n",
       "      <td>NaN</td>\n",
       "    </tr>\n",
       "    <tr>\n",
       "      <th>600</th>\n",
       "      <td>YUMA704URN</td>\n",
       "      <td>2023-09-12</td>\n",
       "      <td>2023-09-12</td>\n",
       "      <td>Unemployment Rate in Yuma, AZ (MSA)</td>\n",
       "      <td>1990-01-01</td>\n",
       "      <td>2023-07-01</td>\n",
       "      <td>Monthly</td>\n",
       "      <td>M</td>\n",
       "      <td>Percent</td>\n",
       "      <td>%</td>\n",
       "      <td>Not Seasonally Adjusted</td>\n",
       "      <td>NSA</td>\n",
       "      <td>2023-08-30 10:07:29-05</td>\n",
       "      <td>3</td>\n",
       "      <td>3</td>\n",
       "      <td>NaN</td>\n",
       "    </tr>\n",
       "  </tbody>\n",
       "</table>\n",
       "<p>3601 rows × 16 columns</p>\n",
       "</div>"
      ],
      "text/plain": [
       "             id realtime_start realtime_end  \\\n",
       "0    ABIL148URN     2023-09-12   2023-09-12   \n",
       "1    AKALEU0URN     2023-09-12   2023-09-12   \n",
       "2    AKALEU3URN     2023-09-12   2023-09-12   \n",
       "3    AKANCH0URN     2023-09-12   2023-09-12   \n",
       "4    AKBETH0URN     2023-09-12   2023-09-12   \n",
       "..          ...            ...          ...   \n",
       "596  YAKI453URN     2023-09-12   2023-09-12   \n",
       "597  YORK642URN     2023-09-12   2023-09-12   \n",
       "598  YOUN639URN     2023-09-12   2023-09-12   \n",
       "599  YUBA706URN     2023-09-12   2023-09-12   \n",
       "600  YUMA704URN     2023-09-12   2023-09-12   \n",
       "\n",
       "                                                 title observation_start  \\\n",
       "0               Unemployment Rate in Abilene, TX (MSA)        1990-01-01   \n",
       "1    Unemployment Rate in Aleutians West Census Are...        1990-01-01   \n",
       "2      Unemployment Rate in Aleutians East Borough, AK        1990-01-01   \n",
       "3    Unemployment Rate in Anchorage Borough/municip...        1990-01-01   \n",
       "4          Unemployment Rate in Bethel Census Area, AK        1990-01-01   \n",
       "..                                                 ...               ...   \n",
       "596              Unemployment Rate in Yakima, WA (MSA)        1990-01-01   \n",
       "597        Unemployment Rate in York-Hanover, PA (MSA)        1990-01-01   \n",
       "598  Unemployment Rate in Youngstown-Warren-Boardma...        1990-01-01   \n",
       "599           Unemployment Rate in Yuba City, CA (MSA)        1990-01-01   \n",
       "600                Unemployment Rate in Yuma, AZ (MSA)        1990-01-01   \n",
       "\n",
       "    observation_end frequency frequency_short    units units_short  \\\n",
       "0        2023-07-01   Monthly               M  Percent           %   \n",
       "1        2023-07-01   Monthly               M  Percent           %   \n",
       "2        2023-07-01   Monthly               M  Percent           %   \n",
       "3        2023-07-01   Monthly               M  Percent           %   \n",
       "4        2023-07-01   Monthly               M  Percent           %   \n",
       "..              ...       ...             ...      ...         ...   \n",
       "596      2023-07-01   Monthly               M  Percent           %   \n",
       "597      2023-07-01   Monthly               M  Percent           %   \n",
       "598      2023-07-01   Monthly               M  Percent           %   \n",
       "599      2023-07-01   Monthly               M  Percent           %   \n",
       "600      2023-07-01   Monthly               M  Percent           %   \n",
       "\n",
       "         seasonal_adjustment seasonal_adjustment_short  \\\n",
       "0    Not Seasonally Adjusted                       NSA   \n",
       "1    Not Seasonally Adjusted                       NSA   \n",
       "2    Not Seasonally Adjusted                       NSA   \n",
       "3    Not Seasonally Adjusted                       NSA   \n",
       "4    Not Seasonally Adjusted                       NSA   \n",
       "..                       ...                       ...   \n",
       "596  Not Seasonally Adjusted                       NSA   \n",
       "597  Not Seasonally Adjusted                       NSA   \n",
       "598  Not Seasonally Adjusted                       NSA   \n",
       "599  Not Seasonally Adjusted                       NSA   \n",
       "600  Not Seasonally Adjusted                       NSA   \n",
       "\n",
       "               last_updated  popularity  group_popularity  \\\n",
       "0    2023-08-30 10:16:47-05           2                 2   \n",
       "1    2023-08-30 10:13:54-05           1                 1   \n",
       "2    2023-08-30 10:15:17-05           1                 1   \n",
       "3    2023-08-30 10:10:02-05           1                 1   \n",
       "4    2023-08-30 10:13:54-05           1                 1   \n",
       "..                      ...         ...               ...   \n",
       "596  2023-08-30 10:15:17-05           1                 1   \n",
       "597  2023-08-30 10:07:43-05           1                 1   \n",
       "598  2023-08-30 10:24:08-05           4                 4   \n",
       "599  2023-08-30 10:30:34-05           0                 1   \n",
       "600  2023-08-30 10:07:29-05           3                 3   \n",
       "\n",
       "                                                 notes  \n",
       "0                                                  NaN  \n",
       "1    These data come from the Current Population Su...  \n",
       "2    These data come from the Current Population Su...  \n",
       "3    These data come from the Current Population Su...  \n",
       "4    These data come from the Current Population Su...  \n",
       "..                                                 ...  \n",
       "596                                                NaN  \n",
       "597                                                NaN  \n",
       "598                                                NaN  \n",
       "599                                                NaN  \n",
       "600                                                NaN  \n",
       "\n",
       "[3601 rows x 16 columns]"
      ]
     },
     "execution_count": 17,
     "metadata": {},
     "output_type": "execute_result"
    }
   ],
   "source": [
    "df_all"
   ]
  },
  {
   "cell_type": "code",
   "execution_count": 7,
   "id": "66333a01-4201-4585-b23e-54a9b6cf1c79",
   "metadata": {},
   "outputs": [],
   "source": [
    "#df_all.reset_index(inplace=True)"
   ]
  },
  {
   "cell_type": "code",
   "execution_count": 18,
   "id": "9d495443-ee62-4944-933f-bba257792dd0",
   "metadata": {},
   "outputs": [
    {
     "name": "stderr",
     "output_type": "stream",
     "text": [
      "C:\\Users\\LENOVO\\AppData\\Local\\Temp\\ipykernel_9352\\1902227.py:2: UserWarning: This pattern is interpreted as a regular expression, and has match groups. To actually get the groups, use str.extract.\n",
      "  msa_drop=df_all.loc[df_all.title.str.contains(\"(MSA)\")==True].index\n"
     ]
    },
    {
     "data": {
      "text/plain": [
       "Int64Index([  0,  20,  31,  32,  37,  61,  74,  97, 104, 105,\n",
       "            ...\n",
       "            445, 473, 474, 482, 483, 596, 597, 598, 599, 600],\n",
       "           dtype='int64', length=347)"
      ]
     },
     "execution_count": 18,
     "metadata": {},
     "output_type": "execute_result"
    }
   ],
   "source": [
    "## our web request pulls MSA information so we drop them\n",
    "msa_drop=df_all.loc[df_all.title.str.contains(\"(MSA)\")==True].index\n",
    "msa_drop"
   ]
  },
  {
   "cell_type": "code",
   "execution_count": 19,
   "id": "8040d04d-904a-4a8c-b458-a9b34e7111a7",
   "metadata": {},
   "outputs": [],
   "source": [
    "df_all.drop(msa_drop,inplace=True)"
   ]
  },
  {
   "cell_type": "code",
   "execution_count": 20,
   "id": "078b70f9-645e-475a-9f5a-10ecc45c7bcb",
   "metadata": {},
   "outputs": [
    {
     "data": {
      "text/plain": [
       "(2457, 16)"
      ]
     },
     "execution_count": 20,
     "metadata": {},
     "output_type": "execute_result"
    }
   ],
   "source": [
    "df_all.shape"
   ]
  },
  {
   "cell_type": "code",
   "execution_count": 21,
   "id": "0befece4-edf1-4a03-845b-933ae34f9cd9",
   "metadata": {},
   "outputs": [
    {
     "name": "stderr",
     "output_type": "stream",
     "text": [
      "C:\\Users\\LENOVO\\AppData\\Local\\Temp\\ipykernel_9352\\2897390250.py:4: UserWarning: This pattern is interpreted as a regular expression, and has match groups. To actually get the groups, use str.extract.\n",
      "  disc_drop=df_all.loc[df_all.title.str.contains(\"(DISCONTINUED)\")==True].index\n"
     ]
    },
    {
     "data": {
      "text/plain": [
       "Int64Index([ 26, 218, 219, 220, 221, 222, 223, 224, 225, 423, 425, 453, 454,\n",
       "            455, 456, 460, 461, 677, 241],\n",
       "           dtype='int64')"
      ]
     },
     "execution_count": 21,
     "metadata": {},
     "output_type": "execute_result"
    }
   ],
   "source": [
    "## our web request pulls discontinued data series  so we drop them\n",
    "\n",
    "\n",
    "disc_drop=df_all.loc[df_all.title.str.contains(\"(DISCONTINUED)\")==True].index\n",
    "disc_drop"
   ]
  },
  {
   "cell_type": "code",
   "execution_count": 22,
   "id": "1327f99c-4feb-4841-97c1-28f98dda3ed3",
   "metadata": {},
   "outputs": [],
   "source": [
    "df_all.drop(disc_drop,inplace=True)"
   ]
  },
  {
   "cell_type": "code",
   "execution_count": 23,
   "id": "889f5d1d-dd79-46c6-82cf-a2b6e2d4cf3c",
   "metadata": {},
   "outputs": [
    {
     "data": {
      "text/plain": [
       "(2382, 16)"
      ]
     },
     "execution_count": 23,
     "metadata": {},
     "output_type": "execute_result"
    }
   ],
   "source": [
    "df_all.shape"
   ]
  },
  {
   "cell_type": "code",
   "execution_count": 24,
   "id": "407f7d75-c94c-4d4b-83ee-8955b8608257",
   "metadata": {},
   "outputs": [],
   "source": [
    "## our web request pulls some other irrelevant data series  so we drop them\n",
    "df_all.dropna(subset=['notes'],inplace=True)"
   ]
  },
  {
   "cell_type": "code",
   "execution_count": 25,
   "id": "fc8b82e3-1bfd-42dd-a669-70e6804adcea",
   "metadata": {},
   "outputs": [
    {
     "data": {
      "text/plain": [
       "(2324, 16)"
      ]
     },
     "execution_count": 25,
     "metadata": {},
     "output_type": "execute_result"
    }
   ],
   "source": [
    "df_all.shape"
   ]
  },
  {
   "cell_type": "code",
   "execution_count": 26,
   "id": "3cd7941c-bcb1-4ab2-b139-1f9db4456b0c",
   "metadata": {},
   "outputs": [
    {
     "data": {
      "text/plain": [
       "['id',\n",
       " 'realtime_start',\n",
       " 'realtime_end',\n",
       " 'title',\n",
       " 'observation_start',\n",
       " 'observation_end',\n",
       " 'frequency',\n",
       " 'frequency_short',\n",
       " 'units',\n",
       " 'units_short',\n",
       " 'seasonal_adjustment',\n",
       " 'seasonal_adjustment_short',\n",
       " 'last_updated',\n",
       " 'popularity',\n",
       " 'group_popularity',\n",
       " 'notes']"
      ]
     },
     "execution_count": 26,
     "metadata": {},
     "output_type": "execute_result"
    }
   ],
   "source": [
    "list(df_all)"
   ]
  },
  {
   "cell_type": "code",
   "execution_count": 17,
   "id": "b9f56e21-d37b-4cbf-bedd-ef01af38be8f",
   "metadata": {},
   "outputs": [],
   "source": [
    "#df_all"
   ]
  },
  {
   "cell_type": "code",
   "execution_count": 27,
   "id": "04bad70e-183d-4fd8-8056-068e9d741179",
   "metadata": {},
   "outputs": [],
   "source": [
    "df_all.to_csv('all.titles_final.csv')"
   ]
  },
  {
   "cell_type": "code",
   "execution_count": 29,
   "id": "162ee1f9-6bef-4d75-9865-6c6816083ccc",
   "metadata": {},
   "outputs": [],
   "source": [
    "id_list=df_all['id'].to_list()"
   ]
  },
  {
   "cell_type": "code",
   "execution_count": 30,
   "id": "e5b0ec68-acd2-4451-84a2-24733eec0104",
   "metadata": {},
   "outputs": [
    {
     "data": {
      "text/plain": [
       "2324"
      ]
     },
     "execution_count": 30,
     "metadata": {},
     "output_type": "execute_result"
    }
   ],
   "source": [
    "len(id_list)"
   ]
  },
  {
   "cell_type": "code",
   "execution_count": 21,
   "id": "d94cef24-83d9-49a1-b410-ea8ea631f4a8",
   "metadata": {},
   "outputs": [],
   "source": [
    "## this is another python library to pull data from FRED\n",
    "\n"
   ]
  },
  {
   "cell_type": "code",
   "execution_count": 32,
   "id": "0cc78cfd-5d24-4461-86cc-92f6778ab013",
   "metadata": {},
   "outputs": [
    {
     "data": {
      "text/plain": [
       "'example.txt'"
      ]
     },
     "execution_count": 32,
     "metadata": {},
     "output_type": "execute_result"
    }
   ],
   "source": [
    "from full_fred.fred import Fred\n",
    "## example_key.txt contains the API key\n",
    "fred = Fred('example.txt')\n",
    "\n",
    "fred.get_api_key_file()"
   ]
  },
  {
   "cell_type": "code",
   "execution_count": 34,
   "id": "d3d9c515-4f39-40d6-ab5a-191adf652b01",
   "metadata": {},
   "outputs": [
    {
     "data": {
      "text/plain": [
       "True"
      ]
     },
     "execution_count": 34,
     "metadata": {},
     "output_type": "execute_result"
    }
   ],
   "source": [
    "fred.set_api_key_file('example.txt')"
   ]
  },
  {
   "cell_type": "code",
   "execution_count": 35,
   "id": "570b021e-acb7-4275-af49-5ef5267557f0",
   "metadata": {},
   "outputs": [
    {
     "data": {
      "text/plain": [
       "2324"
      ]
     },
     "execution_count": 35,
     "metadata": {},
     "output_type": "execute_result"
    }
   ],
   "source": [
    "len(id_list)"
   ]
  },
  {
   "cell_type": "code",
   "execution_count": 36,
   "id": "bbd18d3d-2cb7-4d3f-8bc0-b45c28387ce4",
   "metadata": {},
   "outputs": [
    {
     "ename": "KeyboardInterrupt",
     "evalue": "",
     "output_type": "error",
     "traceback": [
      "\u001b[1;31m---------------------------------------------------------------------------\u001b[0m",
      "\u001b[1;31mKeyboardInterrupt\u001b[0m                         Traceback (most recent call last)",
      "Cell \u001b[1;32mIn[36], line 6\u001b[0m\n\u001b[0;32m      4\u001b[0m df_unemp_raw\u001b[38;5;241m=\u001b[39mpd\u001b[38;5;241m.\u001b[39mDataFrame()\n\u001b[0;32m      5\u001b[0m \u001b[38;5;28;01mfor\u001b[39;00m j \u001b[38;5;129;01min\u001b[39;00m \u001b[38;5;28mrange\u001b[39m(\u001b[38;5;241m0\u001b[39m,\u001b[38;5;28mlen\u001b[39m(id_list),inc):\n\u001b[1;32m----> 6\u001b[0m     time\u001b[38;5;241m.\u001b[39msleep(\u001b[38;5;241m50\u001b[39m)\n\u001b[0;32m      7\u001b[0m     \u001b[38;5;28;01mfor\u001b[39;00m i \u001b[38;5;129;01min\u001b[39;00m id_list[j:j\u001b[38;5;241m+\u001b[39minc\u001b[38;5;241m-\u001b[39m\u001b[38;5;241m1\u001b[39m]:\n\u001b[0;32m      8\u001b[0m         \u001b[38;5;66;03m#print(i)\u001b[39;00m\n\u001b[0;32m      9\u001b[0m         df_temp\u001b[38;5;241m=\u001b[39mfred\u001b[38;5;241m.\u001b[39mget_series_df(i)\n",
      "\u001b[1;31mKeyboardInterrupt\u001b[0m: "
     ]
    }
   ],
   "source": [
    "## this pull takes very long. note that I don't pull all 3138 series at once since the web request has a limit. therefore it waits for 200 seconds after pulling 100 series at a time\n",
    "\n",
    "inc=100\n",
    "df_unemp_raw=pd.DataFrame()\n",
    "for j in range(0,len(id_list),inc):\n",
    "    time.sleep(50)\n",
    "    for i in id_list[j:j+inc-1]:\n",
    "        #print(i)\n",
    "        df_temp=fred.get_series_df(i)\n",
    "        df_temp['id']=str(i)  \n",
    "        df_unemp_raw=pd.concat([df_unemp_raw,df_temp])\n",
    "        df_unemp_raw.shape\n"
   ]
  },
  {
   "cell_type": "code",
   "execution_count": 29,
   "id": "f4f38f07-b32a-4870-9321-199a5602cea8",
   "metadata": {},
   "outputs": [],
   "source": [
    "#df_unemp_raw.head(400)\n",
    "#df_unemp_raw.shape"
   ]
  },
  {
   "cell_type": "code",
   "execution_count": 30,
   "id": "f633c435-3bc6-4086-acf8-9d55b7b43b5a",
   "metadata": {},
   "outputs": [],
   "source": [
    "## saving the data to ensure I keep a copy of it\n",
    "df_unemp_raw.to_pickle('df_unemp_raw.pkl')"
   ]
  },
  {
   "cell_type": "code",
   "execution_count": 37,
   "id": "8291c5ed-5f8e-47e4-92ff-b8009bae7b26",
   "metadata": {},
   "outputs": [],
   "source": [
    "df_unemp_raw=pd.read_pickle('df_unemp_raw.pkl')"
   ]
  },
  {
   "cell_type": "code",
   "execution_count": 38,
   "id": "49e7eddf",
   "metadata": {},
   "outputs": [
    {
     "data": {
      "text/html": [
       "<div>\n",
       "<style scoped>\n",
       "    .dataframe tbody tr th:only-of-type {\n",
       "        vertical-align: middle;\n",
       "    }\n",
       "\n",
       "    .dataframe tbody tr th {\n",
       "        vertical-align: top;\n",
       "    }\n",
       "\n",
       "    .dataframe thead th {\n",
       "        text-align: right;\n",
       "    }\n",
       "</style>\n",
       "<table border=\"1\" class=\"dataframe\">\n",
       "  <thead>\n",
       "    <tr style=\"text-align: right;\">\n",
       "      <th></th>\n",
       "      <th>realtime_start</th>\n",
       "      <th>realtime_end</th>\n",
       "      <th>date</th>\n",
       "      <th>value</th>\n",
       "      <th>id</th>\n",
       "    </tr>\n",
       "  </thead>\n",
       "  <tbody>\n",
       "    <tr>\n",
       "      <th>0</th>\n",
       "      <td>2023-01-27</td>\n",
       "      <td>2023-01-27</td>\n",
       "      <td>1990-01-01</td>\n",
       "      <td>0.700</td>\n",
       "      <td>AKALEU0URN</td>\n",
       "    </tr>\n",
       "    <tr>\n",
       "      <th>1</th>\n",
       "      <td>2023-01-27</td>\n",
       "      <td>2023-01-27</td>\n",
       "      <td>1990-02-01</td>\n",
       "      <td>0.600</td>\n",
       "      <td>AKALEU0URN</td>\n",
       "    </tr>\n",
       "    <tr>\n",
       "      <th>2</th>\n",
       "      <td>2023-01-27</td>\n",
       "      <td>2023-01-27</td>\n",
       "      <td>1990-03-01</td>\n",
       "      <td>0.7</td>\n",
       "      <td>AKALEU0URN</td>\n",
       "    </tr>\n",
       "    <tr>\n",
       "      <th>3</th>\n",
       "      <td>2023-01-27</td>\n",
       "      <td>2023-01-27</td>\n",
       "      <td>1990-04-01</td>\n",
       "      <td>0.700</td>\n",
       "      <td>AKALEU0URN</td>\n",
       "    </tr>\n",
       "    <tr>\n",
       "      <th>4</th>\n",
       "      <td>2023-01-27</td>\n",
       "      <td>2023-01-27</td>\n",
       "      <td>1990-05-01</td>\n",
       "      <td>0.7</td>\n",
       "      <td>AKALEU0URN</td>\n",
       "    </tr>\n",
       "    <tr>\n",
       "      <th>...</th>\n",
       "      <td>...</td>\n",
       "      <td>...</td>\n",
       "      <td>...</td>\n",
       "      <td>...</td>\n",
       "      <td>...</td>\n",
       "    </tr>\n",
       "    <tr>\n",
       "      <th>390</th>\n",
       "      <td>2023-01-27</td>\n",
       "      <td>2023-01-27</td>\n",
       "      <td>2022-07-01</td>\n",
       "      <td>2.2</td>\n",
       "      <td>WYWEST5URN</td>\n",
       "    </tr>\n",
       "    <tr>\n",
       "      <th>391</th>\n",
       "      <td>2023-01-27</td>\n",
       "      <td>2023-01-27</td>\n",
       "      <td>2022-08-01</td>\n",
       "      <td>2.2</td>\n",
       "      <td>WYWEST5URN</td>\n",
       "    </tr>\n",
       "    <tr>\n",
       "      <th>392</th>\n",
       "      <td>2023-01-27</td>\n",
       "      <td>2023-01-27</td>\n",
       "      <td>2022-09-01</td>\n",
       "      <td>2.1</td>\n",
       "      <td>WYWEST5URN</td>\n",
       "    </tr>\n",
       "    <tr>\n",
       "      <th>393</th>\n",
       "      <td>2023-01-27</td>\n",
       "      <td>2023-01-27</td>\n",
       "      <td>2022-10-01</td>\n",
       "      <td>2.2</td>\n",
       "      <td>WYWEST5URN</td>\n",
       "    </tr>\n",
       "    <tr>\n",
       "      <th>394</th>\n",
       "      <td>2023-01-27</td>\n",
       "      <td>2023-01-27</td>\n",
       "      <td>2022-11-01</td>\n",
       "      <td>2.1</td>\n",
       "      <td>WYWEST5URN</td>\n",
       "    </tr>\n",
       "  </tbody>\n",
       "</table>\n",
       "<p>1226875 rows × 5 columns</p>\n",
       "</div>"
      ],
      "text/plain": [
       "    realtime_start realtime_end        date  value          id\n",
       "0       2023-01-27   2023-01-27  1990-01-01  0.700  AKALEU0URN\n",
       "1       2023-01-27   2023-01-27  1990-02-01  0.600  AKALEU0URN\n",
       "2       2023-01-27   2023-01-27  1990-03-01    0.7  AKALEU0URN\n",
       "3       2023-01-27   2023-01-27  1990-04-01  0.700  AKALEU0URN\n",
       "4       2023-01-27   2023-01-27  1990-05-01    0.7  AKALEU0URN\n",
       "..             ...          ...         ...    ...         ...\n",
       "390     2023-01-27   2023-01-27  2022-07-01    2.2  WYWEST5URN\n",
       "391     2023-01-27   2023-01-27  2022-08-01    2.2  WYWEST5URN\n",
       "392     2023-01-27   2023-01-27  2022-09-01    2.1  WYWEST5URN\n",
       "393     2023-01-27   2023-01-27  2022-10-01    2.2  WYWEST5URN\n",
       "394     2023-01-27   2023-01-27  2022-11-01    2.1  WYWEST5URN\n",
       "\n",
       "[1226875 rows x 5 columns]"
      ]
     },
     "execution_count": 38,
     "metadata": {},
     "output_type": "execute_result"
    }
   ],
   "source": [
    "df_unemp_raw"
   ]
  },
  {
   "cell_type": "code",
   "execution_count": 39,
   "id": "650df02d-aac2-4fd3-9350-34bf030da67c",
   "metadata": {},
   "outputs": [],
   "source": [
    "## create the state column by the information contained in title column\n",
    "df_all['State']=df_all['title'].str.slice(start=-2)"
   ]
  },
  {
   "cell_type": "code",
   "execution_count": 33,
   "id": "12a19f0e-ead1-46fb-8884-94fcce8afc9d",
   "metadata": {},
   "outputs": [],
   "source": [
    "#df_unemp_raw.reset_index(drop=True)"
   ]
  },
  {
   "cell_type": "code",
   "execution_count": 40,
   "id": "817df8e0-b35e-4c5e-ba81-4a2bbaab6dac",
   "metadata": {},
   "outputs": [],
   "source": [
    "df_unemp_raw = df_unemp_raw.assign(Index=range(len(df_unemp_raw))).set_index('Index')"
   ]
  },
  {
   "cell_type": "code",
   "execution_count": 41,
   "id": "3480d3f7-69f7-490a-a6e6-48ee19aec8b1",
   "metadata": {},
   "outputs": [],
   "source": [
    "df_all['County']=df_all['title'].str.replace('Unemployment Rate in ','')"
   ]
  },
  {
   "cell_type": "code",
   "execution_count": 42,
   "id": "1e528cbf-cbb3-4cb1-8a41-060118b79ec8",
   "metadata": {},
   "outputs": [],
   "source": [
    "df_all['County']=df_all['County'].str.replace(' County','')"
   ]
  },
  {
   "cell_type": "code",
   "execution_count": 43,
   "id": "01ec95d6-1109-4185-842d-164b171c52f8",
   "metadata": {},
   "outputs": [],
   "source": [
    "## create the county column by the information contained in title column; note that it requires a lot of string operations\n",
    "\n",
    "df_all['County']=df_all['County'].str.slice(stop=-4)"
   ]
  },
  {
   "cell_type": "code",
   "execution_count": 44,
   "id": "464fc9c4-8a08-40ef-b296-4a40f6a251da",
   "metadata": {},
   "outputs": [],
   "source": [
    "## Well, DC needs its own manual setting\n",
    "\n",
    "df_all.loc[(df_all.County == 'the District of Colu'),'County']='DC'\n"
   ]
  },
  {
   "cell_type": "code",
   "execution_count": 45,
   "id": "786d7f8d-53ee-4a81-af4a-b188ec53e46a",
   "metadata": {},
   "outputs": [],
   "source": [
    "#df_all['County']"
   ]
  },
  {
   "cell_type": "code",
   "execution_count": 46,
   "id": "c356552b-de12-4519-bd81-49a3d01435f2",
   "metadata": {},
   "outputs": [
    {
     "data": {
      "text/plain": [
       "['id',\n",
       " 'realtime_start',\n",
       " 'realtime_end',\n",
       " 'title',\n",
       " 'observation_start',\n",
       " 'observation_end',\n",
       " 'frequency',\n",
       " 'frequency_short',\n",
       " 'units',\n",
       " 'units_short',\n",
       " 'seasonal_adjustment',\n",
       " 'seasonal_adjustment_short',\n",
       " 'last_updated',\n",
       " 'popularity',\n",
       " 'group_popularity',\n",
       " 'notes',\n",
       " 'State',\n",
       " 'County']"
      ]
     },
     "execution_count": 46,
     "metadata": {},
     "output_type": "execute_result"
    }
   ],
   "source": [
    "list(df_all)"
   ]
  },
  {
   "cell_type": "code",
   "execution_count": 47,
   "id": "19d4df3b-b83d-4bc4-8036-dd76c381f9d3",
   "metadata": {},
   "outputs": [
    {
     "data": {
      "text/plain": [
       "(2324, 18)"
      ]
     },
     "execution_count": 47,
     "metadata": {},
     "output_type": "execute_result"
    }
   ],
   "source": [
    "df_all.shape"
   ]
  },
  {
   "cell_type": "code",
   "execution_count": 48,
   "id": "a1909948-4783-4104-8bfb-243606206f78",
   "metadata": {},
   "outputs": [],
   "source": [
    "## merge county and state information from master series id list to the actual unemployment data. we are going to need that information to find the county FIPS code.\n",
    "##FIPS code is unique to each county and it will help us to merge it with 3-digit zip code \n",
    "df_unemp=df_unemp_raw.merge(df_all[['id','County','State']], how='left',on=['id'],indicator=True)"
   ]
  },
  {
   "cell_type": "code",
   "execution_count": 49,
   "id": "cbdc25df-6bc5-44d6-a0a8-72a0da814db8",
   "metadata": {},
   "outputs": [
    {
     "data": {
      "text/plain": [
       "(1226875, 8)"
      ]
     },
     "execution_count": 49,
     "metadata": {},
     "output_type": "execute_result"
    }
   ],
   "source": [
    "df_unemp.shape"
   ]
  },
  {
   "cell_type": "code",
   "execution_count": 50,
   "id": "7649f29d-7d14-4528-9b23-144208d989d5",
   "metadata": {},
   "outputs": [
    {
     "name": "stdout",
     "output_type": "stream",
     "text": [
      "        realtime_start realtime_end        date value          id County  \\\n",
      "7110        2023-01-27   2023-01-27  1990-01-01  17.8  AKPRIN1URN    NaN   \n",
      "7111        2023-01-27   2023-01-27  1990-02-01  17.0  AKPRIN1URN    NaN   \n",
      "7112        2023-01-27   2023-01-27  1990-03-01  13.4  AKPRIN1URN    NaN   \n",
      "7113        2023-01-27   2023-01-27  1990-04-01  12.1  AKPRIN1URN    NaN   \n",
      "7114        2023-01-27   2023-01-27  1990-05-01  11.2  AKPRIN1URN    NaN   \n",
      "...                ...          ...         ...   ...         ...    ...   \n",
      "1222525     2023-01-27   2023-01-27  2022-07-01   2.6  WYLINC3URN    NaN   \n",
      "1222526     2023-01-27   2023-01-27  2022-08-01   2.7  WYLINC3URN    NaN   \n",
      "1222527     2023-01-27   2023-01-27  2022-09-01   2.8  WYLINC3URN    NaN   \n",
      "1222528     2023-01-27   2023-01-27  2022-10-01   2.8  WYLINC3URN    NaN   \n",
      "1222529     2023-01-27   2023-01-27  2022-11-01   3.0  WYLINC3URN    NaN   \n",
      "\n",
      "        State     _merge  \n",
      "7110      NaN  left_only  \n",
      "7111      NaN  left_only  \n",
      "7112      NaN  left_only  \n",
      "7113      NaN  left_only  \n",
      "7114      NaN  left_only  \n",
      "...       ...        ...  \n",
      "1222525   NaN  left_only  \n",
      "1222526   NaN  left_only  \n",
      "1222527   NaN  left_only  \n",
      "1222528   NaN  left_only  \n",
      "1222529   NaN  left_only  \n",
      "\n",
      "[317605 rows x 8 columns]\n"
     ]
    }
   ],
   "source": [
    "## check if we correctly merged all series id with the corresponding County and State\n",
    "print(df_unemp.loc[df_unemp['_merge']=='left_only'])"
   ]
  },
  {
   "cell_type": "code",
   "execution_count": 51,
   "id": "0235e637-e93a-4043-aac8-ec156b08e8f7",
   "metadata": {},
   "outputs": [],
   "source": [
    "df_unemp.drop('_merge',axis=1,inplace=True)"
   ]
  },
  {
   "cell_type": "code",
   "execution_count": 46,
   "id": "e4420517-0cb0-4c69-95e5-930ff062b520",
   "metadata": {
    "tags": []
   },
   "outputs": [],
   "source": [
    "#df_unemp.drop('FIPS',axis=1,inplace=True)"
   ]
  },
  {
   "cell_type": "code",
   "execution_count": 52,
   "id": "820342de-6a6e-44da-af17-5d12941dbe5b",
   "metadata": {},
   "outputs": [
    {
     "data": {
      "text/plain": [
       "['realtime_start', 'realtime_end', 'date', 'value', 'id', 'County', 'State']"
      ]
     },
     "execution_count": 52,
     "metadata": {},
     "output_type": "execute_result"
    }
   ],
   "source": [
    "list(df_unemp)"
   ]
  },
  {
   "cell_type": "code",
   "execution_count": 53,
   "id": "7d29e230-f184-4ab1-834d-b6a5fa7facb1",
   "metadata": {
    "scrolled": true
   },
   "outputs": [],
   "source": [
    "## this is county to FIPS dataset I downloaded from the web. It is very tedious to ensure the county name from FRED matches with the county names you download from another data source. if you want to do it yourself here is the \n",
    "## webpage I downloaded it\n",
    "## https://github.com/kjhealy/fips-codes/blob/master/state_and_county_fips_master.csv\n",
    "county_fips=pd.read_csv('state_and_county_fips_master.csv',dtype={'FIPS':'str'}) #Please enter your path"
   ]
  },
  {
   "cell_type": "code",
   "execution_count": 54,
   "id": "f4001bc5-8b19-469f-9f5b-496ba6d4f34b",
   "metadata": {},
   "outputs": [
    {
     "data": {
      "text/plain": [
       "['fips', 'name', 'state']"
      ]
     },
     "execution_count": 54,
     "metadata": {},
     "output_type": "execute_result"
    }
   ],
   "source": [
    "list(county_fips)"
   ]
  },
  {
   "cell_type": "code",
   "execution_count": 55,
   "id": "0b862c3c",
   "metadata": {},
   "outputs": [],
   "source": [
    "county_fips.rename(columns={'state': 'State'}, inplace=True)"
   ]
  },
  {
   "cell_type": "code",
   "execution_count": 56,
   "id": "0c95f9a3-cb53-48b1-b7cb-e008fbfcbcf0",
   "metadata": {},
   "outputs": [
    {
     "data": {
      "text/html": [
       "<div>\n",
       "<style scoped>\n",
       "    .dataframe tbody tr th:only-of-type {\n",
       "        vertical-align: middle;\n",
       "    }\n",
       "\n",
       "    .dataframe tbody tr th {\n",
       "        vertical-align: top;\n",
       "    }\n",
       "\n",
       "    .dataframe thead th {\n",
       "        text-align: right;\n",
       "    }\n",
       "</style>\n",
       "<table border=\"1\" class=\"dataframe\">\n",
       "  <thead>\n",
       "    <tr style=\"text-align: right;\">\n",
       "      <th></th>\n",
       "      <th>fips</th>\n",
       "      <th>name</th>\n",
       "      <th>State</th>\n",
       "    </tr>\n",
       "  </thead>\n",
       "  <tbody>\n",
       "    <tr>\n",
       "      <th>0</th>\n",
       "      <td>0</td>\n",
       "      <td>UNITED STATES</td>\n",
       "      <td>NaN</td>\n",
       "    </tr>\n",
       "    <tr>\n",
       "      <th>1</th>\n",
       "      <td>1000</td>\n",
       "      <td>ALABAMA</td>\n",
       "      <td>NaN</td>\n",
       "    </tr>\n",
       "    <tr>\n",
       "      <th>2</th>\n",
       "      <td>1001</td>\n",
       "      <td>Autauga County</td>\n",
       "      <td>AL</td>\n",
       "    </tr>\n",
       "    <tr>\n",
       "      <th>3</th>\n",
       "      <td>1003</td>\n",
       "      <td>Baldwin County</td>\n",
       "      <td>AL</td>\n",
       "    </tr>\n",
       "    <tr>\n",
       "      <th>4</th>\n",
       "      <td>1005</td>\n",
       "      <td>Barbour County</td>\n",
       "      <td>AL</td>\n",
       "    </tr>\n",
       "    <tr>\n",
       "      <th>5</th>\n",
       "      <td>1007</td>\n",
       "      <td>Bibb County</td>\n",
       "      <td>AL</td>\n",
       "    </tr>\n",
       "    <tr>\n",
       "      <th>6</th>\n",
       "      <td>1009</td>\n",
       "      <td>Blount County</td>\n",
       "      <td>AL</td>\n",
       "    </tr>\n",
       "    <tr>\n",
       "      <th>7</th>\n",
       "      <td>1011</td>\n",
       "      <td>Bullock County</td>\n",
       "      <td>AL</td>\n",
       "    </tr>\n",
       "    <tr>\n",
       "      <th>8</th>\n",
       "      <td>1013</td>\n",
       "      <td>Butler County</td>\n",
       "      <td>AL</td>\n",
       "    </tr>\n",
       "    <tr>\n",
       "      <th>9</th>\n",
       "      <td>1015</td>\n",
       "      <td>Calhoun County</td>\n",
       "      <td>AL</td>\n",
       "    </tr>\n",
       "  </tbody>\n",
       "</table>\n",
       "</div>"
      ],
      "text/plain": [
       "   fips            name State\n",
       "0     0   UNITED STATES   NaN\n",
       "1  1000         ALABAMA   NaN\n",
       "2  1001  Autauga County    AL\n",
       "3  1003  Baldwin County    AL\n",
       "4  1005  Barbour County    AL\n",
       "5  1007     Bibb County    AL\n",
       "6  1009   Blount County    AL\n",
       "7  1011  Bullock County    AL\n",
       "8  1013   Butler County    AL\n",
       "9  1015  Calhoun County    AL"
      ]
     },
     "execution_count": 56,
     "metadata": {},
     "output_type": "execute_result"
    }
   ],
   "source": [
    "county_fips.head(10)"
   ]
  },
  {
   "cell_type": "code",
   "execution_count": 57,
   "id": "4897b601",
   "metadata": {},
   "outputs": [
    {
     "data": {
      "text/plain": [
       "0        1\n",
       "39085    1\n",
       "39089    1\n",
       "39091    1\n",
       "39093    1\n",
       "        ..\n",
       "21111    1\n",
       "21113    1\n",
       "21115    1\n",
       "21117    1\n",
       "56045    1\n",
       "Name: fips, Length: 3195, dtype: int64"
      ]
     },
     "execution_count": 57,
     "metadata": {},
     "output_type": "execute_result"
    }
   ],
   "source": [
    "county_fips[\"fips\"].value_counts(dropna=False)"
   ]
  },
  {
   "cell_type": "code",
   "execution_count": 58,
   "id": "6b672bae-01f9-4b47-bd2b-426bbf134c80",
   "metadata": {
    "scrolled": true
   },
   "outputs": [],
   "source": [
    "county_fips['Name']= county_fips['name'].str.replace(' County','')"
   ]
  },
  {
   "cell_type": "code",
   "execution_count": 59,
   "id": "5d62bded-e03d-45f5-8873-d45d752e729b",
   "metadata": {
    "scrolled": true
   },
   "outputs": [],
   "source": [
    "county_fips['FIPS']=county_fips['fips'].astype(str).str.pad(width=5, side='left', fillchar='0')\n"
   ]
  },
  {
   "cell_type": "code",
   "execution_count": 60,
   "id": "2b79edc9-9176-4cf1-bef7-0e45967ba024",
   "metadata": {},
   "outputs": [],
   "source": [
    "county_fips.rename(columns={'Name':'County'}, inplace=True)"
   ]
  },
  {
   "cell_type": "code",
   "execution_count": 61,
   "id": "b2b6676d-f34c-47be-9f58-3cce7abcc818",
   "metadata": {
    "scrolled": true
   },
   "outputs": [
    {
     "data": {
      "text/plain": [
       "['fips', 'name', 'State', 'County', 'FIPS']"
      ]
     },
     "execution_count": 61,
     "metadata": {},
     "output_type": "execute_result"
    }
   ],
   "source": [
    "list(county_fips)"
   ]
  },
  {
   "cell_type": "code",
   "execution_count": 62,
   "id": "9a2af718-3288-4442-bcdd-d2272d69e948",
   "metadata": {},
   "outputs": [
    {
     "data": {
      "text/plain": [
       "['realtime_start', 'realtime_end', 'date', 'value', 'id', 'County', 'State']"
      ]
     },
     "execution_count": 62,
     "metadata": {},
     "output_type": "execute_result"
    }
   ],
   "source": [
    "list(df_unemp)"
   ]
  },
  {
   "cell_type": "code",
   "execution_count": 21,
   "id": "66bb7645-0945-4f0d-9e07-9a1a04e55d6e",
   "metadata": {},
   "outputs": [],
   "source": [
    "#df_unemp.drop(['FIPS','_merge'],axis=1,inplace=True)"
   ]
  },
  {
   "cell_type": "code",
   "execution_count": 63,
   "id": "382fc288-60fe-4020-b7ca-15d770717730",
   "metadata": {
    "scrolled": true
   },
   "outputs": [],
   "source": [
    "## add the county FIPS code to our unemployment data \n",
    "\n",
    "df_unemp= df_unemp.merge(county_fips, how='left',on=['County','State'], indicator=True)"
   ]
  },
  {
   "cell_type": "code",
   "execution_count": 64,
   "id": "a1fb17ff-28b0-475e-9181-4ef6eb243cba",
   "metadata": {},
   "outputs": [
    {
     "data": {
      "text/plain": [
       "(1226875, 11)"
      ]
     },
     "execution_count": 64,
     "metadata": {},
     "output_type": "execute_result"
    }
   ],
   "source": [
    "df_unemp.shape"
   ]
  },
  {
   "cell_type": "code",
   "execution_count": 61,
   "id": "3a95dfde-0ff7-4602-b06f-84fdbb62aa51",
   "metadata": {},
   "outputs": [],
   "source": [
    "#print(df_unemp.loc[df_unemp['_merge']=='left_only'])"
   ]
  },
  {
   "cell_type": "code",
   "execution_count": 65,
   "id": "5043f982-c663-492a-b33c-6a85a4799364",
   "metadata": {},
   "outputs": [],
   "source": [
    "df_nomatch=df_unemp[['County','State']].loc[df_unemp['_merge']=='left_only']"
   ]
  },
  {
   "cell_type": "code",
   "execution_count": 66,
   "id": "735e9935-c30a-4b9f-90ed-a506e96be16f",
   "metadata": {},
   "outputs": [],
   "source": [
    "import pandas as pd\n",
    "pd.set_option('display.max_rows', None)"
   ]
  },
  {
   "cell_type": "code",
   "execution_count": 67,
   "id": "3a1cfd49-16e9-4930-b29b-01bb1fc061c5",
   "metadata": {
    "scrolled": true
   },
   "outputs": [
    {
     "name": "stdout",
     "output_type": "stream",
     "text": [
      "County                             State\n",
      "Anchorage Borough/municipality     AK       395\n",
      "Salem City                         VA       395\n",
      "Martinsville City                  VA       395\n",
      "Petersburg City                    VA       395\n",
      "Philadelphia/City                  PA       395\n",
      "Poquoson City                      VA       395\n",
      "Portsmouth City                    VA       395\n",
      "Radford City                       VA       395\n",
      "Richmond City                      VA       395\n",
      "Roanoke City                       VA       395\n",
      "San Francisco/City                 CA       395\n",
      "Bristol City                       VA       395\n",
      "Sitka Borough/City                 AK       395\n",
      "St. Louis City                     MO       395\n",
      "Staunton City                      VA       395\n",
      "Suffolk City                       VA       395\n",
      "Virginia Beach City                VA       395\n",
      "Waynesboro City                    VA       395\n",
      "Williamsburg City                  VA       395\n",
      "Winchester City                    VA       395\n",
      "Manassas City                      VA       395\n",
      "Lynchburg City                     VA       395\n",
      "Lexington City                     VA       395\n",
      "Juneau Borough/City                AK       395\n",
      "Broomfield/City                    CO       395\n",
      "Buena Vista City                   VA       395\n",
      "Charlottesville City               VA       395\n",
      "Chesapeake City                    VA       395\n",
      "Colonial Heights City              VA       395\n",
      "Covington City                     VA       395\n",
      "Danville City                      VA       395\n",
      "Denver/City                        CO       395\n",
      "Dona Ana                           NM       395\n",
      "Emporia City                       VA       395\n",
      "Fairfax City                       VA       395\n",
      "Falls Church City                  VA       395\n",
      "Franklin City                      VA       395\n",
      "Fredericksburg City                VA       395\n",
      "Galax City                         VA       395\n",
      "Hampton City                       VA       395\n",
      "Harrisonburg City                  VA       395\n",
      "Hopewell City                      VA       395\n",
      "Wrangell-Petersburg Census Area    AK       252\n",
      "Skagway-Hoonah-Angoon Census Area  AK       240\n",
      "dtype: int64\n"
     ]
    }
   ],
   "source": [
    "print(df_nomatch.value_counts())"
   ]
  },
  {
   "cell_type": "code",
   "execution_count": 68,
   "id": "3f7a39b8-8196-4383-9209-13e87579cef3",
   "metadata": {},
   "outputs": [
    {
     "data": {
      "text/plain": [
       "['realtime_start',\n",
       " 'realtime_end',\n",
       " 'date',\n",
       " 'value',\n",
       " 'id',\n",
       " 'County',\n",
       " 'State',\n",
       " 'fips',\n",
       " 'name',\n",
       " 'FIPS',\n",
       " '_merge']"
      ]
     },
     "execution_count": 68,
     "metadata": {},
     "output_type": "execute_result"
    }
   ],
   "source": [
    "list(df_unemp)"
   ]
  },
  {
   "cell_type": "code",
   "execution_count": 69,
   "id": "ca1fd8d0-7bfa-42ed-9e95-d0ec2aa76c79",
   "metadata": {},
   "outputs": [],
   "source": [
    "## this is the STARTING dataset that we will use to merge with our modeling dataset \n",
    "\n",
    "df_unemp.to_pickle('unemp_county_shrt.pkl')"
   ]
  },
  {
   "cell_type": "markdown",
   "id": "6b14d959-c403-463b-b516-39c7482eef9c",
   "metadata": {},
   "source": [
    "ZIP Codes are collections of mail delivery routes that the USPS uses to organize and expedite mail delivery. County FIPS Codes on the other hand are a five-digit number used to designate a specific county. A county will always be assigned a single FIPS code but the county may contain dozens of ZIP Codes."
   ]
  },
  {
   "cell_type": "markdown",
   "id": "e19fc0b3-761b-457f-a5d9-ecf352686ae0",
   "metadata": {},
   "source": [
    "U.S. ZIP Code Three-Digit Areas represents the first three digits of a ZIP Code. The first digit of a five-digit ZIP Code divides the United States into 10 large groups of states (or equivalent areas) numbered from 0 in the Northeast to 9 in the far West. Within these areas, each state is divided into an average of 10 smaller geographical areas, identified by the second and third digits. These digits, in conjunction with the first digit, represent a Sectional Center Facility (SCF) or a mail processing facility area. These areas are serviced by the U.S. Post Office SCFs. Note that a single SCF often services multiple three-digit areas."
   ]
  },
  {
   "cell_type": "code",
   "execution_count": 70,
   "id": "51f6eaac-b757-4518-98b3-9523998844e7",
   "metadata": {},
   "outputs": [],
   "source": [
    "## note that this dataset only has FIPS code, in order to merge with model data we need to map it to zip3 \n",
    "## you can only find 5 digit zip to county mapping but not 3 digit zip mapping\n",
    "## in order to find the mapping we are going to use mean of geographical latitude and longtitude of all the 5 digit zips and find the county that belongs to\n",
    "## I downloaded the file below from here\n",
    "## https://www.huduser.gov/portal/datasets/usps_crosswalk.html\n",
    "## You need to create an account on the website first. Then install COUNTY-ZIP recent data.\n",
    "\n",
    "zip_fips=pd.read_excel('COUNTY_ZIP_122021.xlsx',dtype={'zip':'str','county':'str'})"
   ]
  },
  {
   "cell_type": "code",
   "execution_count": 71,
   "id": "de6e74dc",
   "metadata": {},
   "outputs": [
    {
     "data": {
      "text/html": [
       "<div>\n",
       "<style scoped>\n",
       "    .dataframe tbody tr th:only-of-type {\n",
       "        vertical-align: middle;\n",
       "    }\n",
       "\n",
       "    .dataframe tbody tr th {\n",
       "        vertical-align: top;\n",
       "    }\n",
       "\n",
       "    .dataframe thead th {\n",
       "        text-align: right;\n",
       "    }\n",
       "</style>\n",
       "<table border=\"1\" class=\"dataframe\">\n",
       "  <thead>\n",
       "    <tr style=\"text-align: right;\">\n",
       "      <th></th>\n",
       "      <th>county</th>\n",
       "      <th>zip</th>\n",
       "      <th>usps_zip_pref_city</th>\n",
       "      <th>usps_zip_pref_state</th>\n",
       "      <th>res_ratio</th>\n",
       "      <th>bus_ratio</th>\n",
       "      <th>oth_ratio</th>\n",
       "      <th>tot_ratio</th>\n",
       "    </tr>\n",
       "  </thead>\n",
       "  <tbody>\n",
       "    <tr>\n",
       "      <th>0</th>\n",
       "      <td>72005</td>\n",
       "      <td>00605</td>\n",
       "      <td>AGUADILLA</td>\n",
       "      <td>PR</td>\n",
       "      <td>0.149651</td>\n",
       "      <td>0.192262</td>\n",
       "      <td>0.005155</td>\n",
       "      <td>0.149201</td>\n",
       "    </tr>\n",
       "    <tr>\n",
       "      <th>1</th>\n",
       "      <td>72017</td>\n",
       "      <td>00617</td>\n",
       "      <td>BARCELONETA</td>\n",
       "      <td>PR</td>\n",
       "      <td>0.994895</td>\n",
       "      <td>1.000000</td>\n",
       "      <td>1.000000</td>\n",
       "      <td>0.995245</td>\n",
       "    </tr>\n",
       "    <tr>\n",
       "      <th>2</th>\n",
       "      <td>72051</td>\n",
       "      <td>00646</td>\n",
       "      <td>DORADO</td>\n",
       "      <td>PR</td>\n",
       "      <td>0.941830</td>\n",
       "      <td>0.994748</td>\n",
       "      <td>0.985401</td>\n",
       "      <td>0.945286</td>\n",
       "    </tr>\n",
       "    <tr>\n",
       "      <th>3</th>\n",
       "      <td>72083</td>\n",
       "      <td>00670</td>\n",
       "      <td>LAS MARIAS</td>\n",
       "      <td>PR</td>\n",
       "      <td>1.000000</td>\n",
       "      <td>1.000000</td>\n",
       "      <td>1.000000</td>\n",
       "      <td>1.000000</td>\n",
       "    </tr>\n",
       "    <tr>\n",
       "      <th>4</th>\n",
       "      <td>72035</td>\n",
       "      <td>00736</td>\n",
       "      <td>CAYEY</td>\n",
       "      <td>PR</td>\n",
       "      <td>0.818613</td>\n",
       "      <td>0.886840</td>\n",
       "      <td>0.990385</td>\n",
       "      <td>0.824670</td>\n",
       "    </tr>\n",
       "  </tbody>\n",
       "</table>\n",
       "</div>"
      ],
      "text/plain": [
       "  county    zip usps_zip_pref_city usps_zip_pref_state  res_ratio  bus_ratio  \\\n",
       "0  72005  00605          AGUADILLA                  PR   0.149651   0.192262   \n",
       "1  72017  00617        BARCELONETA                  PR   0.994895   1.000000   \n",
       "2  72051  00646             DORADO                  PR   0.941830   0.994748   \n",
       "3  72083  00670         LAS MARIAS                  PR   1.000000   1.000000   \n",
       "4  72035  00736              CAYEY                  PR   0.818613   0.886840   \n",
       "\n",
       "   oth_ratio  tot_ratio  \n",
       "0   0.005155   0.149201  \n",
       "1   1.000000   0.995245  \n",
       "2   0.985401   0.945286  \n",
       "3   1.000000   1.000000  \n",
       "4   0.990385   0.824670  "
      ]
     },
     "execution_count": 71,
     "metadata": {},
     "output_type": "execute_result"
    }
   ],
   "source": [
    "zip_fips.head()"
   ]
  },
  {
   "cell_type": "code",
   "execution_count": 74,
   "id": "be065851-a70b-41c7-a3b8-3ff9c0df5569",
   "metadata": {
    "scrolled": true
   },
   "outputs": [],
   "source": [
    "## make them 5 digit with adding trailing zeros \n",
    "zip_fips['zip']= zip_fips['zip'].apply(str).str.pad(width=5, side='left', fillchar='0') # apply(str) required for error handling"
   ]
  },
  {
   "cell_type": "code",
   "execution_count": 75,
   "id": "c44723cf-e577-473a-9bcb-a216a64d634f",
   "metadata": {
    "scrolled": true
   },
   "outputs": [],
   "source": [
    "zip_fips['county']= zip_fips['county'].apply(str).str.pad(width=5, side='left', fillchar='0')"
   ]
  },
  {
   "cell_type": "code",
   "execution_count": 76,
   "id": "c6c4b2f9-c825-42b4-bdde-be8962dff292",
   "metadata": {},
   "outputs": [],
   "source": [
    "zip_fips['zip3']=zip_fips['zip'].str.slice(stop=-2)"
   ]
  },
  {
   "cell_type": "code",
   "execution_count": 77,
   "id": "e4ca0336-ee34-4be4-bda9-8799dca153de",
   "metadata": {},
   "outputs": [],
   "source": [
    "zip_fips.rename(columns={'county':'FIPS'}, inplace=True)"
   ]
  },
  {
   "cell_type": "code",
   "execution_count": 78,
   "id": "228f0d88-bc62-4b59-91b1-d9e188ac093f",
   "metadata": {},
   "outputs": [],
   "source": [
    "#zip_fips"
   ]
  },
  {
   "cell_type": "code",
   "execution_count": 79,
   "id": "6b1ba448-a68f-4d03-b78e-dfe6889668fb",
   "metadata": {
    "collapsed": true
   },
   "outputs": [
    {
     "name": "stdout",
     "output_type": "stream",
     "text": [
      "Collecting uszipcode\n",
      "  Downloading uszipcode-1.0.1-py2.py3-none-any.whl (35 kB)\n",
      "Requirement already satisfied: attrs in c:\\users\\lenovo\\appdata\\local\\programs\\python\\python311\\lib\\site-packages (from uszipcode) (22.2.0)\n",
      "Requirement already satisfied: requests in c:\\users\\lenovo\\appdata\\local\\programs\\python\\python311\\lib\\site-packages (from uszipcode) (2.28.2)\n",
      "Collecting pathlib-mate\n",
      "  Downloading pathlib_mate-1.2.1-py2.py3-none-any.whl (121 kB)\n",
      "     -------------------------------------- 121.5/121.5 kB 7.0 MB/s eta 0:00:00\n",
      "Collecting atomicwrites\n",
      "  Downloading atomicwrites-1.4.1.tar.gz (14 kB)\n",
      "  Preparing metadata (setup.py): started\n",
      "  Preparing metadata (setup.py): finished with status 'done'\n",
      "Collecting fuzzywuzzy\n",
      "  Downloading fuzzywuzzy-0.18.0-py2.py3-none-any.whl (18 kB)\n",
      "Collecting haversine>=2.5.0\n",
      "  Downloading haversine-2.8.0-py2.py3-none-any.whl (7.7 kB)\n",
      "Requirement already satisfied: SQLAlchemy>=1.4.0 in c:\\users\\lenovo\\appdata\\local\\programs\\python\\python311\\lib\\site-packages (from uszipcode) (2.0.5.post1)\n",
      "Collecting sqlalchemy-mate>=1.4.28.3\n",
      "  Downloading sqlalchemy_mate-1.4.28.4-py2.py3-none-any.whl (77 kB)\n",
      "     ---------------------------------------- 77.1/77.1 kB 4.2 MB/s eta 0:00:00\n",
      "Requirement already satisfied: typing-extensions>=4.2.0 in c:\\users\\lenovo\\appdata\\local\\programs\\python\\python311\\lib\\site-packages (from SQLAlchemy>=1.4.0->uszipcode) (4.5.0)\n",
      "Requirement already satisfied: greenlet!=0.4.17 in c:\\users\\lenovo\\appdata\\local\\programs\\python\\python311\\lib\\site-packages (from SQLAlchemy>=1.4.0->uszipcode) (2.0.2)\n",
      "Collecting SQLAlchemy>=1.4.0\n",
      "  Downloading SQLAlchemy-1.4.49-cp311-cp311-win_amd64.whl (1.6 MB)\n",
      "     ---------------------------------------- 1.6/1.6 MB 14.4 MB/s eta 0:00:00\n",
      "Requirement already satisfied: prettytable in c:\\users\\lenovo\\appdata\\local\\programs\\python\\python311\\lib\\site-packages (from sqlalchemy-mate>=1.4.28.3->uszipcode) (3.6.0)\n",
      "Requirement already satisfied: six in c:\\users\\lenovo\\appdata\\local\\programs\\python\\python311\\lib\\site-packages (from pathlib-mate->uszipcode) (1.16.0)\n",
      "Requirement already satisfied: charset-normalizer<4,>=2 in c:\\users\\lenovo\\appdata\\local\\programs\\python\\python311\\lib\\site-packages (from requests->uszipcode) (3.1.0)\n",
      "Requirement already satisfied: idna<4,>=2.5 in c:\\users\\lenovo\\appdata\\local\\programs\\python\\python311\\lib\\site-packages (from requests->uszipcode) (3.4)\n",
      "Requirement already satisfied: urllib3<1.27,>=1.21.1 in c:\\users\\lenovo\\appdata\\local\\programs\\python\\python311\\lib\\site-packages (from requests->uszipcode) (1.26.15)\n",
      "Requirement already satisfied: certifi>=2017.4.17 in c:\\users\\lenovo\\appdata\\local\\programs\\python\\python311\\lib\\site-packages (from requests->uszipcode) (2022.12.7)\n",
      "Requirement already satisfied: wcwidth in c:\\users\\lenovo\\appdata\\local\\programs\\python\\python311\\lib\\site-packages (from prettytable->sqlalchemy-mate>=1.4.28.3->uszipcode) (0.2.6)\n",
      "Building wheels for collected packages: atomicwrites\n",
      "  Building wheel for atomicwrites (setup.py): started\n",
      "  Building wheel for atomicwrites (setup.py): finished with status 'done'\n",
      "  Created wheel for atomicwrites: filename=atomicwrites-1.4.1-py2.py3-none-any.whl size=6974 sha256=26f71972e1205b40637f5160736331ded59c6a44ba8afe0c67c9febcec9d866a\n",
      "  Stored in directory: c:\\users\\lenovo\\appdata\\local\\pip\\cache\\wheels\\aa\\b3\\bd\\8b0687745a55eaa46dd68a41bd805a25c260a361079229a9d7\n",
      "Successfully built atomicwrites\n",
      "Installing collected packages: fuzzywuzzy, SQLAlchemy, haversine, atomicwrites, sqlalchemy-mate, pathlib-mate, uszipcode\n",
      "  Attempting uninstall: SQLAlchemy\n",
      "    Found existing installation: SQLAlchemy 2.0.5.post1\n",
      "    Uninstalling SQLAlchemy-2.0.5.post1:\n",
      "      Successfully uninstalled SQLAlchemy-2.0.5.post1\n",
      "Successfully installed SQLAlchemy-1.4.49 atomicwrites-1.4.1 fuzzywuzzy-0.18.0 haversine-2.8.0 pathlib-mate-1.2.1 sqlalchemy-mate-1.4.28.4 uszipcode-1.0.1\n"
     ]
    },
    {
     "name": "stderr",
     "output_type": "stream",
     "text": [
      "ERROR: pip's dependency resolver does not currently take into account all the packages that are installed. This behaviour is the source of the following dependency conflicts.\n",
      "ipython-sql 0.5.0 requires sqlalchemy>=2.0, but you have sqlalchemy 1.4.49 which is incompatible.\n",
      "\n",
      "[notice] A new release of pip available: 22.3.1 -> 23.2.1\n",
      "[notice] To update, run: python.exe -m pip install --upgrade pip\n"
     ]
    }
   ],
   "source": [
    "## this library finds the latitude and longtitude fiven a 5 digit zip code\n",
    "\n",
    "! pip install --upgrade uszipcode\n"
   ]
  },
  {
   "cell_type": "code",
   "execution_count": 80,
   "id": "a389da91-fd7b-4d78-81c5-4c2eb9922de5",
   "metadata": {},
   "outputs": [
    {
     "name": "stderr",
     "output_type": "stream",
     "text": [
      "C:\\Users\\LENOVO\\AppData\\Local\\Programs\\Python\\Python311\\Lib\\site-packages\\fuzzywuzzy\\fuzz.py:11: UserWarning: Using slow pure-python SequenceMatcher. Install python-Levenshtein to remove this warning\n",
      "  warnings.warn('Using slow pure-python SequenceMatcher. Install python-Levenshtein to remove this warning')\n"
     ]
    },
    {
     "name": "stdout",
     "output_type": "stream",
     "text": [
      "Download C:\\Users\\LENOVO\\.uszipcode\\simple_db.sqlite from https://github.com/MacHu-GWU/uszipcode-project/releases/download/1.0.1.db/simple_db.sqlite ...\n",
      "  1.00 MB downloaded ...\n",
      "  2.00 MB downloaded ...\n",
      "  3.00 MB downloaded ...\n",
      "  4.00 MB downloaded ...\n",
      "  5.00 MB downloaded ...\n",
      "  6.00 MB downloaded ...\n",
      "  7.00 MB downloaded ...\n",
      "  8.00 MB downloaded ...\n",
      "  9.00 MB downloaded ...\n",
      "  10.00 MB downloaded ...\n",
      "  11.00 MB downloaded ...\n",
      "  Complete!\n"
     ]
    }
   ],
   "source": [
    "from uszipcode import SearchEngine\n",
    "search=SearchEngine()"
   ]
  },
  {
   "cell_type": "code",
   "execution_count": 81,
   "id": "5edd4960-d192-4141-829b-ced839e8c127",
   "metadata": {},
   "outputs": [],
   "source": [
    "zip_list=zip_fips['zip'].to_list()"
   ]
  },
  {
   "cell_type": "code",
   "execution_count": 82,
   "id": "5c03054d-4b2a-41d2-84ac-cf292ed4e033",
   "metadata": {},
   "outputs": [],
   "source": [
    "zip_list_loc=[]\n",
    "for i in zip_list:\n",
    "    zipcode = search.by_zipcode(int(i))\n",
    "    zip_list_loc.append({'Zipcode': i,'Latitude': zipcode.lat,'Longitude':zipcode.lng,'ZIP_3':i[:3]})\n"
   ]
  },
  {
   "cell_type": "code",
   "execution_count": 83,
   "id": "71512e4d-b017-4c36-8a2a-41f56b2a44ff",
   "metadata": {},
   "outputs": [],
   "source": [
    "#zip_list_loc"
   ]
  },
  {
   "cell_type": "code",
   "execution_count": 84,
   "id": "43dfd89e-824d-4589-964f-3b45e5e90a17",
   "metadata": {},
   "outputs": [
    {
     "name": "stderr",
     "output_type": "stream",
     "text": [
      "C:\\Users\\LENOVO\\AppData\\Local\\Temp\\ipykernel_9352\\2879214969.py:4: FutureWarning: The default value of numeric_only in DataFrameGroupBy.mean is deprecated. In a future version, numeric_only will default to False. Either specify numeric_only or select only columns which should be valid for the function.\n",
      "  all3zipcodes=allzipcodes.groupby(['ZIP_3']).mean().reset_index()\n"
     ]
    }
   ],
   "source": [
    "\n",
    "## convert the dictionary to pandas data frame and the mean lat and long for all of the 5 digit zipcodes that has the first 3 digits the same ie. 22101, 22102 will be grouped as 221\n",
    "allzipcodes=pd.DataFrame.from_dict(zip_list_loc)\n",
    "\n",
    "all3zipcodes=allzipcodes.groupby(['ZIP_3']).mean().reset_index()\n"
   ]
  },
  {
   "cell_type": "code",
   "execution_count": 85,
   "id": "ef4d8b0a-17f5-4681-91cc-6b9b870ccccc",
   "metadata": {},
   "outputs": [
    {
     "data": {
      "text/plain": [
       "['ZIP_3', 'Latitude', 'Longitude']"
      ]
     },
     "execution_count": 85,
     "metadata": {},
     "output_type": "execute_result"
    }
   ],
   "source": [
    "list(all3zipcodes)"
   ]
  },
  {
   "cell_type": "code",
   "execution_count": 86,
   "id": "46615434-9b9e-4ae2-ad51-803331fab88b",
   "metadata": {},
   "outputs": [],
   "source": [
    "import requests\n",
    "import urllib\n",
    "from urllib.parse import urlencode, quote_plus\n",
    "\n"
   ]
  },
  {
   "cell_type": "code",
   "execution_count": 87,
   "id": "31b05cb3-9a55-4eca-889d-d4ba1bf8dbef",
   "metadata": {},
   "outputs": [],
   "source": [
    "## function to get the county level FIPS code given lat and long\n",
    "\n",
    "def FIPS_finder(lat,lon):\n",
    "    params = urlencode({'latitude': lat, 'longitude':lon, 'format':'json'})\n",
    "    #Contruct request URL\n",
    "    url = 'https://geo.fcc.gov/api/census/block/find?' + params\n",
    "\n",
    "    #Get response from API\n",
    "    response = requests.get(url)\n",
    "    data = response.json()\n",
    "    return data['County']['FIPS']\n",
    "\n",
    "    "
   ]
  },
  {
   "cell_type": "code",
   "execution_count": 88,
   "id": "229778b1-1901-49b3-b93b-3ec0bf812c45",
   "metadata": {},
   "outputs": [],
   "source": [
    "## numpy's vectorize function is very effcient when you are applying lambda functions\n",
    "\n"
   ]
  },
  {
   "cell_type": "code",
   "execution_count": 89,
   "id": "85a5baa1-c9c6-46fe-b005-33dc383030c2",
   "metadata": {},
   "outputs": [],
   "source": [
    "all3zipcodes['FIPS']=np.vectorize(FIPS_finder)(all3zipcodes['Latitude'],all3zipcodes['Longitude'])"
   ]
  },
  {
   "cell_type": "code",
   "execution_count": 90,
   "id": "1fca499a-e2a9-4a35-8549-7e56f6d3de1a",
   "metadata": {},
   "outputs": [],
   "source": [
    "## now our dataset is ready to merge with the model data\n",
    "## first we will use this dataset to find the FIPS code for a given ZIP3\n",
    "## then we will use that FIPS code to find the unemployment\n",
    "\n",
    "#all3zipcodes"
   ]
  },
  {
   "cell_type": "code",
   "execution_count": 91,
   "id": "9b8e5597-bd28-4914-b91c-b633e64afb56",
   "metadata": {},
   "outputs": [],
   "source": [
    "all3zipcodes.to_pickle('zip3_fips_lookup.pkl')"
   ]
  },
  {
   "cell_type": "code",
   "execution_count": 8,
   "id": "ccc9861e",
   "metadata": {},
   "outputs": [
    {
     "name": "stdout",
     "output_type": "stream",
     "text": [
      "Data loaded successfully!\n",
      "    ZIP_3   Latitude   Longitude   FIPS\n",
      "0     005  40.810000  -73.040000  36103\n",
      "1     006  18.300396  -66.791485  72141\n",
      "2     007  18.179320  -66.071845  72025\n",
      "3     008  18.141111  -64.855556   None\n",
      "4     009  18.394138  -66.094914  72127\n",
      "..    ...        ...         ...    ...\n",
      "906   995  60.362319 -154.827826  02164\n",
      "907   996  60.243256 -156.864651  02070\n",
      "908   997  65.762025 -153.448608  02290\n",
      "909   998  57.914667 -134.912000  02105\n",
      "910   999  55.691667 -132.166667  02275\n",
      "\n",
      "[911 rows x 4 columns]\n"
     ]
    }
   ],
   "source": [
    "import pickle\n",
    "\n",
    "# Specify the filename of the pickle file\n",
    "pickle_file = 'unemp_county_shrt.pkl'\n",
    "\n",
    "try:\n",
    "    # Open the pickle file in binary read mode\n",
    "    with open(pickle_file, 'rb') as file:\n",
    "        # Load the data from the pickle file\n",
    "        data1 = pickle.load(file)\n",
    "\n",
    "    # Now 'data' contains the contents of the pickle file\n",
    "    print(\"Data loaded successfully!\")\n",
    "    \n",
    "    # You can use 'data' as needed\n",
    "    # For example, you can print it to see its contents\n",
    "    print(data)\n",
    "\n",
    "except FileNotFoundError:\n",
    "    print(f\"Error: The file '{pickle_file}' was not found.\")\n",
    "except Exception as e:\n",
    "    print(f\"An error occurred: {e}\")\n"
   ]
  },
  {
   "cell_type": "code",
   "execution_count": 9,
   "id": "d0e86998",
   "metadata": {},
   "outputs": [
    {
     "data": {
      "text/html": [
       "<div>\n",
       "<style scoped>\n",
       "    .dataframe tbody tr th:only-of-type {\n",
       "        vertical-align: middle;\n",
       "    }\n",
       "\n",
       "    .dataframe tbody tr th {\n",
       "        vertical-align: top;\n",
       "    }\n",
       "\n",
       "    .dataframe thead th {\n",
       "        text-align: right;\n",
       "    }\n",
       "</style>\n",
       "<table border=\"1\" class=\"dataframe\">\n",
       "  <thead>\n",
       "    <tr style=\"text-align: right;\">\n",
       "      <th></th>\n",
       "      <th>realtime_start</th>\n",
       "      <th>realtime_end</th>\n",
       "      <th>date</th>\n",
       "      <th>value</th>\n",
       "      <th>id</th>\n",
       "      <th>County</th>\n",
       "      <th>State</th>\n",
       "      <th>fips</th>\n",
       "      <th>name</th>\n",
       "      <th>FIPS</th>\n",
       "      <th>_merge</th>\n",
       "    </tr>\n",
       "  </thead>\n",
       "  <tbody>\n",
       "    <tr>\n",
       "      <th>0</th>\n",
       "      <td>2023-01-27</td>\n",
       "      <td>2023-01-27</td>\n",
       "      <td>1990-01-01</td>\n",
       "      <td>0.700</td>\n",
       "      <td>AKALEU0URN</td>\n",
       "      <td>Aleutians West Census Area</td>\n",
       "      <td>AK</td>\n",
       "      <td>2016.0</td>\n",
       "      <td>Aleutians West Census Area</td>\n",
       "      <td>02016</td>\n",
       "      <td>both</td>\n",
       "    </tr>\n",
       "    <tr>\n",
       "      <th>1</th>\n",
       "      <td>2023-01-27</td>\n",
       "      <td>2023-01-27</td>\n",
       "      <td>1990-02-01</td>\n",
       "      <td>0.600</td>\n",
       "      <td>AKALEU0URN</td>\n",
       "      <td>Aleutians West Census Area</td>\n",
       "      <td>AK</td>\n",
       "      <td>2016.0</td>\n",
       "      <td>Aleutians West Census Area</td>\n",
       "      <td>02016</td>\n",
       "      <td>both</td>\n",
       "    </tr>\n",
       "    <tr>\n",
       "      <th>2</th>\n",
       "      <td>2023-01-27</td>\n",
       "      <td>2023-01-27</td>\n",
       "      <td>1990-03-01</td>\n",
       "      <td>0.7</td>\n",
       "      <td>AKALEU0URN</td>\n",
       "      <td>Aleutians West Census Area</td>\n",
       "      <td>AK</td>\n",
       "      <td>2016.0</td>\n",
       "      <td>Aleutians West Census Area</td>\n",
       "      <td>02016</td>\n",
       "      <td>both</td>\n",
       "    </tr>\n",
       "    <tr>\n",
       "      <th>3</th>\n",
       "      <td>2023-01-27</td>\n",
       "      <td>2023-01-27</td>\n",
       "      <td>1990-04-01</td>\n",
       "      <td>0.700</td>\n",
       "      <td>AKALEU0URN</td>\n",
       "      <td>Aleutians West Census Area</td>\n",
       "      <td>AK</td>\n",
       "      <td>2016.0</td>\n",
       "      <td>Aleutians West Census Area</td>\n",
       "      <td>02016</td>\n",
       "      <td>both</td>\n",
       "    </tr>\n",
       "    <tr>\n",
       "      <th>4</th>\n",
       "      <td>2023-01-27</td>\n",
       "      <td>2023-01-27</td>\n",
       "      <td>1990-05-01</td>\n",
       "      <td>0.7</td>\n",
       "      <td>AKALEU0URN</td>\n",
       "      <td>Aleutians West Census Area</td>\n",
       "      <td>AK</td>\n",
       "      <td>2016.0</td>\n",
       "      <td>Aleutians West Census Area</td>\n",
       "      <td>02016</td>\n",
       "      <td>both</td>\n",
       "    </tr>\n",
       "    <tr>\n",
       "      <th>...</th>\n",
       "      <td>...</td>\n",
       "      <td>...</td>\n",
       "      <td>...</td>\n",
       "      <td>...</td>\n",
       "      <td>...</td>\n",
       "      <td>...</td>\n",
       "      <td>...</td>\n",
       "      <td>...</td>\n",
       "      <td>...</td>\n",
       "      <td>...</td>\n",
       "      <td>...</td>\n",
       "    </tr>\n",
       "    <tr>\n",
       "      <th>1226870</th>\n",
       "      <td>2023-01-27</td>\n",
       "      <td>2023-01-27</td>\n",
       "      <td>2022-07-01</td>\n",
       "      <td>2.2</td>\n",
       "      <td>WYWEST5URN</td>\n",
       "      <td>Weston</td>\n",
       "      <td>WY</td>\n",
       "      <td>56045.0</td>\n",
       "      <td>Weston County</td>\n",
       "      <td>56045</td>\n",
       "      <td>both</td>\n",
       "    </tr>\n",
       "    <tr>\n",
       "      <th>1226871</th>\n",
       "      <td>2023-01-27</td>\n",
       "      <td>2023-01-27</td>\n",
       "      <td>2022-08-01</td>\n",
       "      <td>2.2</td>\n",
       "      <td>WYWEST5URN</td>\n",
       "      <td>Weston</td>\n",
       "      <td>WY</td>\n",
       "      <td>56045.0</td>\n",
       "      <td>Weston County</td>\n",
       "      <td>56045</td>\n",
       "      <td>both</td>\n",
       "    </tr>\n",
       "    <tr>\n",
       "      <th>1226872</th>\n",
       "      <td>2023-01-27</td>\n",
       "      <td>2023-01-27</td>\n",
       "      <td>2022-09-01</td>\n",
       "      <td>2.1</td>\n",
       "      <td>WYWEST5URN</td>\n",
       "      <td>Weston</td>\n",
       "      <td>WY</td>\n",
       "      <td>56045.0</td>\n",
       "      <td>Weston County</td>\n",
       "      <td>56045</td>\n",
       "      <td>both</td>\n",
       "    </tr>\n",
       "    <tr>\n",
       "      <th>1226873</th>\n",
       "      <td>2023-01-27</td>\n",
       "      <td>2023-01-27</td>\n",
       "      <td>2022-10-01</td>\n",
       "      <td>2.2</td>\n",
       "      <td>WYWEST5URN</td>\n",
       "      <td>Weston</td>\n",
       "      <td>WY</td>\n",
       "      <td>56045.0</td>\n",
       "      <td>Weston County</td>\n",
       "      <td>56045</td>\n",
       "      <td>both</td>\n",
       "    </tr>\n",
       "    <tr>\n",
       "      <th>1226874</th>\n",
       "      <td>2023-01-27</td>\n",
       "      <td>2023-01-27</td>\n",
       "      <td>2022-11-01</td>\n",
       "      <td>2.1</td>\n",
       "      <td>WYWEST5URN</td>\n",
       "      <td>Weston</td>\n",
       "      <td>WY</td>\n",
       "      <td>56045.0</td>\n",
       "      <td>Weston County</td>\n",
       "      <td>56045</td>\n",
       "      <td>both</td>\n",
       "    </tr>\n",
       "  </tbody>\n",
       "</table>\n",
       "<p>1226875 rows × 11 columns</p>\n",
       "</div>"
      ],
      "text/plain": [
       "        realtime_start realtime_end        date  value          id  \\\n",
       "0           2023-01-27   2023-01-27  1990-01-01  0.700  AKALEU0URN   \n",
       "1           2023-01-27   2023-01-27  1990-02-01  0.600  AKALEU0URN   \n",
       "2           2023-01-27   2023-01-27  1990-03-01    0.7  AKALEU0URN   \n",
       "3           2023-01-27   2023-01-27  1990-04-01  0.700  AKALEU0URN   \n",
       "4           2023-01-27   2023-01-27  1990-05-01    0.7  AKALEU0URN   \n",
       "...                ...          ...         ...    ...         ...   \n",
       "1226870     2023-01-27   2023-01-27  2022-07-01    2.2  WYWEST5URN   \n",
       "1226871     2023-01-27   2023-01-27  2022-08-01    2.2  WYWEST5URN   \n",
       "1226872     2023-01-27   2023-01-27  2022-09-01    2.1  WYWEST5URN   \n",
       "1226873     2023-01-27   2023-01-27  2022-10-01    2.2  WYWEST5URN   \n",
       "1226874     2023-01-27   2023-01-27  2022-11-01    2.1  WYWEST5URN   \n",
       "\n",
       "                             County State     fips  \\\n",
       "0        Aleutians West Census Area    AK   2016.0   \n",
       "1        Aleutians West Census Area    AK   2016.0   \n",
       "2        Aleutians West Census Area    AK   2016.0   \n",
       "3        Aleutians West Census Area    AK   2016.0   \n",
       "4        Aleutians West Census Area    AK   2016.0   \n",
       "...                             ...   ...      ...   \n",
       "1226870                      Weston    WY  56045.0   \n",
       "1226871                      Weston    WY  56045.0   \n",
       "1226872                      Weston    WY  56045.0   \n",
       "1226873                      Weston    WY  56045.0   \n",
       "1226874                      Weston    WY  56045.0   \n",
       "\n",
       "                               name   FIPS _merge  \n",
       "0        Aleutians West Census Area  02016   both  \n",
       "1        Aleutians West Census Area  02016   both  \n",
       "2        Aleutians West Census Area  02016   both  \n",
       "3        Aleutians West Census Area  02016   both  \n",
       "4        Aleutians West Census Area  02016   both  \n",
       "...                             ...    ...    ...  \n",
       "1226870               Weston County  56045   both  \n",
       "1226871               Weston County  56045   both  \n",
       "1226872               Weston County  56045   both  \n",
       "1226873               Weston County  56045   both  \n",
       "1226874               Weston County  56045   both  \n",
       "\n",
       "[1226875 rows x 11 columns]"
      ]
     },
     "execution_count": 9,
     "metadata": {},
     "output_type": "execute_result"
    }
   ],
   "source": [
    "data1\n"
   ]
  },
  {
   "cell_type": "code",
   "execution_count": 10,
   "id": "dc0b9fb9",
   "metadata": {},
   "outputs": [
    {
     "data": {
      "text/html": [
       "<div>\n",
       "<style scoped>\n",
       "    .dataframe tbody tr th:only-of-type {\n",
       "        vertical-align: middle;\n",
       "    }\n",
       "\n",
       "    .dataframe tbody tr th {\n",
       "        vertical-align: top;\n",
       "    }\n",
       "\n",
       "    .dataframe thead th {\n",
       "        text-align: right;\n",
       "    }\n",
       "</style>\n",
       "<table border=\"1\" class=\"dataframe\">\n",
       "  <thead>\n",
       "    <tr style=\"text-align: right;\">\n",
       "      <th></th>\n",
       "      <th>ZIP_3</th>\n",
       "      <th>Latitude</th>\n",
       "      <th>Longitude</th>\n",
       "      <th>FIPS</th>\n",
       "    </tr>\n",
       "  </thead>\n",
       "  <tbody>\n",
       "    <tr>\n",
       "      <th>0</th>\n",
       "      <td>005</td>\n",
       "      <td>40.810000</td>\n",
       "      <td>-73.040000</td>\n",
       "      <td>36103</td>\n",
       "    </tr>\n",
       "    <tr>\n",
       "      <th>1</th>\n",
       "      <td>006</td>\n",
       "      <td>18.300396</td>\n",
       "      <td>-66.791485</td>\n",
       "      <td>72141</td>\n",
       "    </tr>\n",
       "    <tr>\n",
       "      <th>2</th>\n",
       "      <td>007</td>\n",
       "      <td>18.179320</td>\n",
       "      <td>-66.071845</td>\n",
       "      <td>72025</td>\n",
       "    </tr>\n",
       "    <tr>\n",
       "      <th>3</th>\n",
       "      <td>008</td>\n",
       "      <td>18.141111</td>\n",
       "      <td>-64.855556</td>\n",
       "      <td>None</td>\n",
       "    </tr>\n",
       "    <tr>\n",
       "      <th>4</th>\n",
       "      <td>009</td>\n",
       "      <td>18.394138</td>\n",
       "      <td>-66.094914</td>\n",
       "      <td>72127</td>\n",
       "    </tr>\n",
       "    <tr>\n",
       "      <th>...</th>\n",
       "      <td>...</td>\n",
       "      <td>...</td>\n",
       "      <td>...</td>\n",
       "      <td>...</td>\n",
       "    </tr>\n",
       "    <tr>\n",
       "      <th>906</th>\n",
       "      <td>995</td>\n",
       "      <td>60.362319</td>\n",
       "      <td>-154.827826</td>\n",
       "      <td>02164</td>\n",
       "    </tr>\n",
       "    <tr>\n",
       "      <th>907</th>\n",
       "      <td>996</td>\n",
       "      <td>60.243256</td>\n",
       "      <td>-156.864651</td>\n",
       "      <td>02070</td>\n",
       "    </tr>\n",
       "    <tr>\n",
       "      <th>908</th>\n",
       "      <td>997</td>\n",
       "      <td>65.762025</td>\n",
       "      <td>-153.448608</td>\n",
       "      <td>02290</td>\n",
       "    </tr>\n",
       "    <tr>\n",
       "      <th>909</th>\n",
       "      <td>998</td>\n",
       "      <td>57.914667</td>\n",
       "      <td>-134.912000</td>\n",
       "      <td>02105</td>\n",
       "    </tr>\n",
       "    <tr>\n",
       "      <th>910</th>\n",
       "      <td>999</td>\n",
       "      <td>55.691667</td>\n",
       "      <td>-132.166667</td>\n",
       "      <td>02275</td>\n",
       "    </tr>\n",
       "  </tbody>\n",
       "</table>\n",
       "<p>911 rows × 4 columns</p>\n",
       "</div>"
      ],
      "text/plain": [
       "    ZIP_3   Latitude   Longitude   FIPS\n",
       "0     005  40.810000  -73.040000  36103\n",
       "1     006  18.300396  -66.791485  72141\n",
       "2     007  18.179320  -66.071845  72025\n",
       "3     008  18.141111  -64.855556   None\n",
       "4     009  18.394138  -66.094914  72127\n",
       "..    ...        ...         ...    ...\n",
       "906   995  60.362319 -154.827826  02164\n",
       "907   996  60.243256 -156.864651  02070\n",
       "908   997  65.762025 -153.448608  02290\n",
       "909   998  57.914667 -134.912000  02105\n",
       "910   999  55.691667 -132.166667  02275\n",
       "\n",
       "[911 rows x 4 columns]"
      ]
     },
     "execution_count": 10,
     "metadata": {},
     "output_type": "execute_result"
    }
   ],
   "source": [
    "data"
   ]
  },
  {
   "cell_type": "code",
   "execution_count": null,
   "id": "05a80c70",
   "metadata": {},
   "outputs": [],
   "source": [
    "import pickle\n",
    "\n",
    "# Specify the filename of the pickle file\n",
    "pickle_file = 'zip3_fips_lookup_s3.pkl'\n",
    "\n",
    "try:\n",
    "    # Open the pickle file in binary read mode\n",
    "    with open(pickle_file, 'rb') as file:\n",
    "        # Load the data from the pickle file\n",
    "        data = pickle.load(file)\n",
    "\n",
    "    # Now 'data' contains the contents of the pickle file\n",
    "    print(\"Data loaded successfully!\")\n",
    "    \n",
    "    # You can use 'data' as needed\n",
    "    # For example, you can print it to see its contents\n",
    "    print(data)\n",
    "\n",
    "except FileNotFoundError:\n",
    "    print(f\"Error: The file '{pickle_file}' was not found.\")\n",
    "except Exception as e:\n",
    "    print(f\"An error occurred: {e}\")\n"
   ]
  },
  {
   "cell_type": "code",
   "execution_count": 5,
   "id": "40f8a7b2",
   "metadata": {},
   "outputs": [
    {
     "data": {
      "text/plain": [
       "06037    17\n",
       "11001     6\n",
       "None      5\n",
       "17031     5\n",
       "36081     4\n",
       "         ..\n",
       "28089     1\n",
       "28075     1\n",
       "28035     1\n",
       "28047     1\n",
       "02275     1\n",
       "Name: FIPS, Length: 729, dtype: int64"
      ]
     },
     "execution_count": 5,
     "metadata": {},
     "output_type": "execute_result"
    }
   ],
   "source": [
    "data.FIPS.value_counts()"
   ]
  },
  {
   "cell_type": "code",
   "execution_count": null,
   "id": "b170728f",
   "metadata": {},
   "outputs": [],
   "source": []
  }
 ],
 "metadata": {
  "kernelspec": {
   "display_name": "Python 3 (ipykernel)",
   "language": "python",
   "name": "python3"
  },
  "language_info": {
   "codemirror_mode": {
    "name": "ipython",
    "version": 3
   },
   "file_extension": ".py",
   "mimetype": "text/x-python",
   "name": "python",
   "nbconvert_exporter": "python",
   "pygments_lexer": "ipython3",
   "version": "3.11.1"
  }
 },
 "nbformat": 4,
 "nbformat_minor": 5
}
